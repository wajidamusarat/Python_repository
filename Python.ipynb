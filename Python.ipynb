{
  "cells": [
    {
      "cell_type": "markdown",
      "metadata": {
        "id": "view-in-github",
        "colab_type": "text"
      },
      "source": [
        "<a href=\"https://colab.research.google.com/github/wajidamusarat/Python_repository/blob/main/Python.ipynb\" target=\"_parent\"><img src=\"https://colab.research.google.com/assets/colab-badge.svg\" alt=\"Open In Colab\"/></a>"
      ]
    },
    {
      "cell_type": "code",
      "execution_count": null,
      "metadata": {
        "id": "VBL5s3_TcpUJ"
      },
      "outputs": [],
      "source": [
        "sum=3+5"
      ]
    },
    {
      "cell_type": "code",
      "execution_count": null,
      "metadata": {
        "colab": {
          "base_uri": "https://localhost:8080/"
        },
        "id": "6CvNKnq4dCwn",
        "outputId": "4e01891c-343b-4cf8-faba-f40afb0a75e1"
      },
      "outputs": [
        {
          "data": {
            "text/plain": [
              "8"
            ]
          },
          "execution_count": 2,
          "metadata": {},
          "output_type": "execute_result"
        }
      ],
      "source": [
        "sum"
      ]
    },
    {
      "cell_type": "code",
      "execution_count": null,
      "metadata": {
        "id": "ZwodhiSDdOSK"
      },
      "outputs": [],
      "source": [
        "#Keywords are predefined, reserved words used in Python programming that have special meanings to the compiler."
      ]
    },
    {
      "cell_type": "markdown",
      "metadata": {
        "id": "v60IsS4K3Wkf"
      },
      "source": [
        "Identifiers are the name given to variables, classes, methods, etc.\n"
      ]
    },
    {
      "cell_type": "code",
      "execution_count": null,
      "metadata": {
        "id": "hx7NQmV13s_c"
      },
      "outputs": [],
      "source": [
        "#VARIABLES"
      ]
    },
    {
      "cell_type": "markdown",
      "metadata": {
        "id": "K8eI1Oyr4DtI"
      },
      "source": [
        "a variable is a container (storage area) to hold data. For example,\n",
        "\n"
      ]
    },
    {
      "cell_type": "code",
      "execution_count": null,
      "metadata": {
        "colab": {
          "base_uri": "https://localhost:8080/"
        },
        "id": "3GJMWHag4E1d",
        "outputId": "46741690-3d65-4c5e-8ac5-9b95ce4d1c9b"
      },
      "outputs": [
        {
          "name": "stdout",
          "output_type": "stream",
          "text": [
            "programiz.pro\n"
          ]
        }
      ],
      "source": [
        "site_name = 'programiz.pro'\n",
        "\n",
        "print(site_name)"
      ]
    },
    {
      "cell_type": "code",
      "execution_count": null,
      "metadata": {
        "id": "mOApkQog4LVd"
      },
      "outputs": [],
      "source": [
        "#CONSTANTS"
      ]
    },
    {
      "cell_type": "markdown",
      "metadata": {
        "id": "JZgwZLS94_Hu"
      },
      "source": [
        "A constant is a special type of variable whose value cannot be changed.\n",
        "\n"
      ]
    },
    {
      "cell_type": "code",
      "execution_count": null,
      "metadata": {
        "colab": {
          "base_uri": "https://localhost:8080/"
        },
        "id": "xbIW7Myj5Aiy",
        "outputId": "c256ff1f-520a-4783-9315-c629d56fda33"
      },
      "outputs": [
        {
          "name": "stdout",
          "output_type": "stream",
          "text": [
            "None\n"
          ]
        }
      ],
      "source": [
        "value = None\n",
        "\n",
        "print(value)"
      ]
    },
    {
      "cell_type": "code",
      "execution_count": null,
      "metadata": {
        "colab": {
          "base_uri": "https://localhost:8080/"
        },
        "id": "MJM9eXLv59xC",
        "outputId": "dd46571e-6edc-46ac-bc90-a6aa6cbd9b9f"
      },
      "outputs": [
        {
          "name": "stdout",
          "output_type": "stream",
          "text": [
            "S\n"
          ]
        }
      ],
      "source": [
        "some_character = 'S'\n",
        "print(some_character)"
      ]
    },
    {
      "cell_type": "code",
      "execution_count": null,
      "metadata": {
        "colab": {
          "base_uri": "https://localhost:8080/"
        },
        "id": "waTn2nea6SBK",
        "outputId": "088f0889-2609-40d1-b2f4-bbfd619cf6ef"
      },
      "outputs": [
        {
          "name": "stdout",
          "output_type": "stream",
          "text": [
            "Python is fun\n"
          ]
        }
      ],
      "source": [
        "some_string = 'Python is fun'\n",
        "print(some_string)"
      ]
    },
    {
      "cell_type": "markdown",
      "metadata": {
        "id": "l-wkRJAv7mv-"
      },
      "source": [
        "There are four different literal collections List literals, Tuple literals, Dict literals, and Set literals.\n",
        "\n",
        "Literals are representations of fixed values in a program. They can be numbers, characters, or strings, etc. For example, 'Hello, World!', 12, 23.0, 'C', etc.\n",
        "\n",
        "Literals are often used to assign values to variables or constants. For example,\n"
      ]
    },
    {
      "cell_type": "code",
      "execution_count": null,
      "metadata": {
        "colab": {
          "background_save": true
        },
        "id": "Ej2AgGKm6yyY",
        "outputId": "f840c074-702a-444d-aa08-98501f662dc0"
      },
      "outputs": [
        {
          "name": "stdout",
          "output_type": "stream",
          "text": [
            "['apple', 'mango', 'orange']\n",
            "(1, 2, 3)\n",
            "{'a': 'apple', 'b': 'ball', 'c': 'cat'}\n",
            "{'i', 'u', 'o', 'e', 'a'}\n"
          ]
        }
      ],
      "source": [
        "fruits = [\"apple\", \"mango\", \"orange\"]\n",
        "print(fruits)\n",
        "\n",
        "# tuple literal\n",
        "numbers = (1, 2, 3)\n",
        "print(numbers)\n",
        "\n",
        "# dictionary literal\n",
        "alphabets = {'a':'apple', 'b':'ball', 'c':'cat'}\n",
        "print(alphabets)\n",
        "\n",
        "# set literal\n",
        "vowels = {'a', 'e', 'i' , 'o', 'u'}\n",
        "print(vowels)\n"
      ]
    },
    {
      "cell_type": "markdown",
      "metadata": {
        "id": "SBCHQ5sMe0Ng"
      },
      "source": [
        "Python dictionary is an ordered collection of items. It stores elements in key/value pairs.\n",
        "\n",
        "Here, keys are unique identifiers that are associated with each value."
      ]
    },
    {
      "cell_type": "code",
      "execution_count": null,
      "metadata": {
        "colab": {
          "base_uri": "https://localhost:8080/"
        },
        "id": "0Z24vp9we2sg",
        "outputId": "8ed90c16-f663-4a2e-e04d-0d87e2e08d6e"
      },
      "outputs": [
        {
          "name": "stdout",
          "output_type": "stream",
          "text": [
            "{'Nepal': 'Kathmandu', 'Italy': 'Rome', 'England': 'London'}\n"
          ]
        }
      ],
      "source": [
        "capital_city = {'Nepal': 'Kathmandu', 'Italy': 'Rome', 'England': 'London'}\n",
        "\n",
        "print(capital_city)"
      ]
    },
    {
      "cell_type": "code",
      "execution_count": null,
      "metadata": {
        "colab": {
          "base_uri": "https://localhost:8080/"
        },
        "id": "eQfG32I8e-LZ",
        "outputId": "6f7e9242-3301-4f83-f8a9-9ab8cb72741d"
      },
      "outputs": [
        {
          "name": "stdout",
          "output_type": "stream",
          "text": [
            "{'i', 'o', 'a', 'u', 'e'}\n"
          ]
        }
      ],
      "source": [
        "new = {'a', 'e', 'i' , 'o', 'u','e'}\n",
        "print(new)\n"
      ]
    },
    {
      "cell_type": "code",
      "execution_count": null,
      "metadata": {
        "colab": {
          "base_uri": "https://localhost:8080/"
        },
        "id": "Be07W0YKwfXy",
        "outputId": "8442a9c4-8b04-446a-ef93-d09a449c4f2c"
      },
      "outputs": [
        {
          "name": "stdout",
          "output_type": "stream",
          "text": [
            "{'i', 'o', 'a', 'u', 'e'}\n"
          ]
        }
      ],
      "source": [
        "hello = {'a', 'e', 'i' , 'o', 'u'}\n",
        "print(hello)\n"
      ]
    },
    {
      "cell_type": "code",
      "execution_count": null,
      "metadata": {
        "colab": {
          "base_uri": "https://localhost:8080/"
        },
        "id": "trjtdi0zwmlL",
        "outputId": "0ab672a3-d9a9-4406-84d7-507dfcc9c9e2"
      },
      "outputs": [
        {
          "name": "stdout",
          "output_type": "stream",
          "text": [
            "Enter your  name: wajida\n",
            "You Entered: wajida\n",
            "Data type of num: <class 'str'>\n"
          ]
        }
      ],
      "source": [
        "num = input('Enter your  name: ')\n",
        "\n",
        "print('You Entered:', num)\n",
        "\n",
        "print('Data type of num:', type(num))"
      ]
    },
    {
      "cell_type": "code",
      "execution_count": null,
      "metadata": {
        "colab": {
          "base_uri": "https://localhost:8080/"
        },
        "id": "FwUheIfUKAQM",
        "outputId": "916f5226-0626-424f-8115-e6d1113a073a"
      },
      "outputs": [
        {
          "name": "stdout",
          "output_type": "stream",
          "text": [
            "Enter a value: 10\n",
            "Enter b value: 4\n",
            "Sum:  14\n",
            "Multiplication:  40\n",
            "Division:  2.5\n",
            "Floor Division:  2\n",
            "Modulo:  2\n",
            "Power:  10000\n"
          ]
        }
      ],
      "source": [
        "a = int(input('Enter a value: '))\n",
        "b = int(input('Enter b value: '))\n",
        "\n",
        "# addition\n",
        "print ('Sum: ', a + b)\n",
        "\n",
        "print ('Multiplication: ', a * b)\n",
        "print ('Division: ', a / b)\n",
        "print ('Floor Division: ', a // b)\n",
        "print ('Modulo: ', a % b)\n",
        "print ('Power: ', a ** b)"
      ]
    },
    {
      "cell_type": "code",
      "execution_count": null,
      "metadata": {
        "colab": {
          "base_uri": "https://localhost:8080/"
        },
        "id": "ZoBmSnWnKS-V",
        "outputId": "bb7fe801-2cbd-4b79-af8c-0323d7af3f6f"
      },
      "outputs": [
        {
          "name": "stdout",
          "output_type": "stream",
          "text": [
            "45\n"
          ]
        }
      ],
      "source": [
        "num_list=[3,27,45,-98]\n",
        "max_value=num_list[0]\n",
        "for i in num_list:\n",
        "  if i>max_value:\n",
        "    max_value=i\n",
        "print(max_value)"
      ]
    },
    {
      "cell_type": "code",
      "execution_count": null,
      "metadata": {
        "colab": {
          "base_uri": "https://localhost:8080/"
        },
        "id": "o5kxYi6aZtzj",
        "outputId": "3c36fc47-8553-4b57-f571-036311d75844"
      },
      "outputs": [
        {
          "name": "stdout",
          "output_type": "stream",
          "text": [
            "Welcome to ROCK,PAPER,SCISSOR\n",
            "enter your choice:helo\n",
            "Player=  helo\n",
            "computer= paper\n",
            " invalid input\n",
            "Choose from rock,paper,scissor\n"
          ]
        }
      ],
      "source": [
        "import random\n",
        "print('Welcome to ROCK,PAPER,SCISSOR')\n",
        "\n",
        "options=[\"rock\",\"paper\",\"scissor\"]\n",
        "#int(input('Enter the number of rounds you want to play:  '))\n",
        "#pcount=0\n",
        "#hcount=0\n",
        "Player=input('enter your choice:')\n",
        "computer=random.choice(options)\n",
        "print('Player= ',Player)\n",
        "print('computer=',computer)\n",
        "if Player==options:\n",
        "  if Player!=computer:\n",
        "    if (Player == \"rock\" and computer==\"scissor\") or (Player == \"scissor\" and computer==\"paper\") or (Player == \"paper\" and computer==\"rock\"):\n",
        "      print('Player win')\n",
        "   # pcount+=1\n",
        "    elif (Player == \"rock\" and computer==\"paper\") or (Player == \"paper\" and computer==\"scissor\") or (Player == \"scissor\" and computer==\"rock\"):\n",
        "      print('Computer win')\n",
        "   # hcount+=1\n",
        "  else:\n",
        "    print('its a tie')\n",
        "else:\n",
        "  print(\"Invalid input\\nChoose from rock,paper,scissor\")\n",
        "\n"
      ]
    },
    {
      "cell_type": "code",
      "execution_count": null,
      "metadata": {
        "colab": {
          "base_uri": "https://localhost:8080/"
        },
        "id": "mWd92CTymbvG",
        "outputId": "c419d6de-0c97-4cde-ffed-ce54f0532f79"
      },
      "outputs": [
        {
          "name": "stdout",
          "output_type": "stream",
          "text": [
            "{'brand': 'Ford', 'model': 'Mustang', 'year': 1964}\n"
          ]
        }
      ],
      "source": [
        "exampledict={\"brand\": \"Ford\",\n",
        "\"model\": \"Mustang\",\n",
        "\"year\": 1964}\n",
        "print(exampledict)"
      ]
    },
    {
      "cell_type": "code",
      "execution_count": null,
      "metadata": {
        "colab": {
          "base_uri": "https://localhost:8080/"
        },
        "id": "S9KemNfx3c90",
        "outputId": "fa51086c-5391-44d9-b94a-6fa619bb3e3f"
      },
      "outputs": [
        {
          "data": {
            "text/plain": [
              "1964"
            ]
          },
          "execution_count": 3,
          "metadata": {},
          "output_type": "execute_result"
        }
      ],
      "source": [
        "exampledict[\"year\"]"
      ]
    },
    {
      "cell_type": "code",
      "execution_count": null,
      "metadata": {
        "colab": {
          "base_uri": "https://localhost:8080/"
        },
        "id": "iQHyEy2W3pWI",
        "outputId": "aa3f6c38-dd73-4fd0-a2d1-f990d0acf835"
      },
      "outputs": [
        {
          "name": "stdout",
          "output_type": "stream",
          "text": [
            "h|ai\n"
          ]
        }
      ],
      "source": [
        "#e1={\"scissor|paper\":\"scissor\",\"rock|paper\":\"paper\",\"rock|scissor\":\"rock\"}\n"
      ]
    },
    {
      "cell_type": "code",
      "execution_count": null,
      "metadata": {
        "colab": {
          "base_uri": "https://localhost:8080/"
        },
        "id": "SvfuNIZgRX2G",
        "outputId": "d9cb6d12-3d07-4842-ff56-c036313642d4"
      },
      "outputs": [
        {
          "name": "stdout",
          "output_type": "stream",
          "text": [
            "h\n",
            "he\n",
            "hel\n",
            "hell\n",
            "hello\n"
          ]
        }
      ],
      "source": [
        "e2=\"hello\"\n",
        "x=0\n",
        "for i in e2:\n",
        "  x=x+1\n",
        "  print(e2[0:x])"
      ]
    },
    {
      "cell_type": "code",
      "execution_count": null,
      "metadata": {
        "id": "D-ikVEpARnPo"
      },
      "outputs": [],
      "source": [
        "print(\"hello\")"
      ]
    },
    {
      "cell_type": "code",
      "execution_count": null,
      "metadata": {
        "colab": {
          "base_uri": "https://localhost:8080/"
        },
        "id": "mkM7tY_5Rpth",
        "outputId": "deb45176-05ac-4363-a01a-17aaff1425f5"
      },
      "outputs": [
        {
          "name": "stdout",
          "output_type": "stream",
          "text": [
            "0\n",
            "1\n",
            "2\n"
          ]
        }
      ],
      "source": [
        "for i in range(5):\n",
        "    if i == 3:\n",
        "        break\n",
        "    print(i)"
      ]
    },
    {
      "cell_type": "code",
      "execution_count": null,
      "metadata": {
        "colab": {
          "base_uri": "https://localhost:8080/"
        },
        "id": "pNXlOaiuS3ea",
        "outputId": "47f715bb-b28e-464f-b20f-5f2771eb1854"
      },
      "outputs": [
        {
          "name": "stdout",
          "output_type": "stream",
          "text": [
            "hello it's Wednesday today\n"
          ]
        }
      ],
      "source": [
        "print(\"hello it's Wednesday today\")"
      ]
    },
    {
      "cell_type": "code",
      "execution_count": null,
      "metadata": {
        "colab": {
          "base_uri": "https://localhost:8080/"
        },
        "id": "6VapEQXhTK3X",
        "outputId": "b1bc56b1-b203-4d41-cc74-abb96966fa2b"
      },
      "outputs": [
        {
          "name": "stdout",
          "output_type": "stream",
          "text": [
            "he\n"
          ]
        }
      ],
      "source": [
        "h1=\"hello\"\n",
        "print(h1[0:2])"
      ]
    },
    {
      "cell_type": "code",
      "execution_count": null,
      "metadata": {
        "colab": {
          "base_uri": "https://localhost:8080/"
        },
        "id": "tjgS6FHKUNpV",
        "outputId": "c40c3d35-6807-4bac-a88b-59e7b7156377"
      },
      "outputs": [
        {
          "name": "stdout",
          "output_type": "stream",
          "text": [
            "h\n",
            "he\n",
            "hel\n",
            "hell\n",
            "hello\n",
            "hell\n",
            "hel\n",
            "he\n",
            "h\n",
            "\n"
          ]
        }
      ],
      "source": [
        "e3=\"hello\"\n",
        "x=0\n",
        "for i in e3:\n",
        "  x=x+1\n",
        "  print(e3[0:x])\n",
        "for i in e3:\n",
        "  x=x-1\n",
        "  print(e3[0:x])"
      ]
    },
    {
      "cell_type": "code",
      "execution_count": null,
      "metadata": {
        "colab": {
          "base_uri": "https://localhost:8080/"
        },
        "id": "UtDRzwjYYB6m",
        "outputId": "b19ff64e-9aad-4960-d34b-8e4fe71c4e6d"
      },
      "outputs": [
        {
          "name": "stdout",
          "output_type": "stream",
          "text": [
            "2\n",
            "3\n",
            "3\n"
          ]
        }
      ],
      "source": [
        "l1=[1,2,3,4,3]\n",
        "l2=[2,3,5,6,3]\n",
        "for c in l2:\n",
        "  if c in l1:\n",
        "    print(c)\n"
      ]
    },
    {
      "cell_type": "code",
      "execution_count": null,
      "metadata": {
        "colab": {
          "base_uri": "https://localhost:8080/"
        },
        "id": "lwenvpYZbb7v",
        "outputId": "9a09462c-4108-4fc1-9619-f3b45ef98859"
      },
      "outputs": [
        {
          "data": {
            "text/plain": [
              "[1, 2, 3, 5, 8, 13]"
            ]
          },
          "execution_count": 9,
          "metadata": {},
          "output_type": "execute_result"
        }
      ],
      "source": [
        "c=[x for x in b if x in a]\n",
        "c"
      ]
    },
    {
      "cell_type": "code",
      "execution_count": null,
      "metadata": {
        "colab": {
          "base_uri": "https://localhost:8080/"
        },
        "id": "fvnO2Ro2hL0l",
        "outputId": "69568fd1-5770-4045-ce5f-b0f6696bfafd"
      },
      "outputs": [
        {
          "name": "stdout",
          "output_type": "stream",
          "text": [
            "[1, 2, 3, 5, 8, 13]\n"
          ]
        }
      ],
      "source": [
        "print(c)"
      ]
    },
    {
      "cell_type": "code",
      "execution_count": null,
      "metadata": {
        "colab": {
          "base_uri": "https://localhost:8080/"
        },
        "id": "Drks434Hmi0I",
        "outputId": "401a2505-5f1c-4600-d1e5-83f6f604aa85"
      },
      "outputs": [
        {
          "name": "stdout",
          "output_type": "stream",
          "text": [
            "1\n",
            "2\n",
            "3\n",
            "5\n",
            "8\n",
            "13\n"
          ]
        }
      ],
      "source": [
        "for x in c:\n",
        "  for y in c[0:]:\n",
        "    if x==y:\n",
        "      print(y)"
      ]
    },
    {
      "cell_type": "code",
      "execution_count": null,
      "metadata": {
        "colab": {
          "base_uri": "https://localhost:8080/"
        },
        "id": "ZxN_SidcnJI9",
        "outputId": "ca1b3491-6329-469f-ea5f-32f8a54b53b0"
      },
      "outputs": [
        {
          "data": {
            "text/plain": [
              "[1, 2, 3, 5, 8, 13]"
            ]
          },
          "execution_count": 28,
          "metadata": {},
          "output_type": "execute_result"
        }
      ],
      "source": [
        "p = [1, 1, 2, 3, 5, 8, 13, 21, 34, 55, 89]\n",
        "q = [1, 2, 3, 4, 5, 6, 7, 8, 9, 10, 11, 12, 13]\n",
        "c1=[x for x in q if x in a]\n",
        "c1"
      ]
    },
    {
      "cell_type": "code",
      "execution_count": null,
      "metadata": {
        "colab": {
          "base_uri": "https://localhost:8080/"
        },
        "id": "N-I1Cddln03J",
        "outputId": "968116ee-e36d-4137-c118-9f911a281a75"
      },
      "outputs": [
        {
          "name": "stdout",
          "output_type": "stream",
          "text": [
            "[1, 1, 3, 2, 3, 5, 8, 13]\n"
          ]
        }
      ],
      "source": [
        "print(c12)"
      ]
    },
    {
      "cell_type": "code",
      "execution_count": null,
      "metadata": {
        "colab": {
          "base_uri": "https://localhost:8080/"
        },
        "id": "K8SPXtWPpm2u",
        "outputId": "e4bbf025-2b03-4338-ec2b-c76955a189be"
      },
      "outputs": [
        {
          "name": "stdout",
          "output_type": "stream",
          "text": [
            "*\n",
            "**\n",
            "***\n",
            "****\n"
          ]
        }
      ],
      "source": [
        "e4=\"****\"\n",
        "x=0\n",
        "for i in e4:\n",
        "  x=x+1\n",
        "  print(e4[0:x])"
      ]
    },
    {
      "cell_type": "markdown",
      "metadata": {
        "id": "KezSVVJ7tOE7"
      },
      "source": [
        "e4 is star\\\n",
        "x=0\\\n",
        "using for loop \\\n",
        "for variable(i) in e4\\\n",
        "after entering the for loop we will increment the x value\\\n",
        "we will print e4 from 0 to the value x is having."
      ]
    },
    {
      "cell_type": "code",
      "execution_count": null,
      "metadata": {
        "colab": {
          "base_uri": "https://localhost:8080/"
        },
        "id": "vqvOHwPQs0d2",
        "outputId": "46f40ed5-b60e-44fc-f39c-0e596ff35e68"
      },
      "outputs": [
        {
          "name": "stdout",
          "output_type": "stream",
          "text": [
            "2\n",
            "3\n",
            "5\n",
            "4\n",
            "4\n"
          ]
        }
      ],
      "source": [
        "ab=[1,2,3,4,5,5]\n",
        "cd=[2,3,5,6,4,4]\n",
        "for x in cd:\n",
        "  if x in ab:\n",
        "    print(x)"
      ]
    },
    {
      "cell_type": "code",
      "execution_count": null,
      "metadata": {
        "colab": {
          "base_uri": "https://localhost:8080/"
        },
        "id": "lJYqWt6dwSgY",
        "outputId": "746d9074-396f-4636-f3cc-1dd03dc3fe22"
      },
      "outputs": [
        {
          "name": "stdout",
          "output_type": "stream",
          "text": [
            " \n",
            "*  \n",
            "* *  \n",
            "* * *  \n",
            "* * * *  \n"
          ]
        }
      ],
      "source": [
        "rows=5\n",
        "for i in range(rows):\n",
        "  for j in range(i):\n",
        "        print(\"*\",end=' ')\n",
        "  print(\" \")\n",
        "\n"
      ]
    },
    {
      "cell_type": "code",
      "execution_count": null,
      "metadata": {
        "colab": {
          "base_uri": "https://localhost:8080/"
        },
        "id": "xVC-6d9H2mnA",
        "outputId": "92bfa956-d187-41f7-9548-93df589e89db"
      },
      "outputs": [
        {
          "name": "stdout",
          "output_type": "stream",
          "text": [
            "[]\n",
            "new list: [23, 45]\n"
          ]
        }
      ],
      "source": [
        "Create_List=[]\n",
        "print(Create_List)\n",
        "Create_List.append(23)\n",
        "Create_List.append(45)\n",
        "print(\"new list:\",Create_List)"
      ]
    },
    {
      "cell_type": "code",
      "execution_count": null,
      "metadata": {
        "colab": {
          "base_uri": "https://localhost:8080/"
        },
        "id": "CFhyp4Aicx3_",
        "outputId": "583fb23a-a7a3-4d6d-c11a-eb4a042f110a"
      },
      "outputs": [
        {
          "data": {
            "text/plain": [
              "['a', 'b', 'c']"
            ]
          },
          "execution_count": 4,
          "metadata": {},
          "output_type": "execute_result"
        }
      ],
      "source": [
        "z = ['a', 'b', 'a', 'c', 'b', 'a', ]\n",
        "[z[i] for i in range(len(z)) if i == z.index(z[i])]"
      ]
    },
    {
      "cell_type": "code",
      "execution_count": null,
      "metadata": {
        "colab": {
          "base_uri": "https://localhost:8080/"
        },
        "id": "9GW1xw3ziZeS",
        "outputId": "f5664934-fd2b-4ee9-efc4-e2dae3755def"
      },
      "outputs": [
        {
          "name": "stdout",
          "output_type": "stream",
          "text": [
            "1\n",
            "2\n",
            "3\n",
            "4\n",
            "5\n"
          ]
        }
      ],
      "source": [
        "a_List=[1,2,3,4,5,2,3]\n",
        "for x in range(len(a_List)):\n",
        "  if x== a_List.index(a_List[x]):\n",
        "    print(a_List[x])"
      ]
    },
    {
      "cell_type": "code",
      "execution_count": null,
      "metadata": {
        "colab": {
          "base_uri": "https://localhost:8080/"
        },
        "id": "X-tjjwPsjbqx",
        "outputId": "3db520e3-ac74-4fe4-ed84-36ace9cb6ec8"
      },
      "outputs": [
        {
          "name": "stdout",
          "output_type": "stream",
          "text": [
            "0\n",
            "1\n",
            "2\n",
            "3\n",
            "4\n",
            "5\n"
          ]
        }
      ],
      "source": [
        "r=[1,2,3,4,5,9,9,2,2]\n",
        "for x in range(len(r)):\n",
        "  if x == r.index(r[x]):\n",
        "    print(r.index(r[x]))"
      ]
    },
    {
      "cell_type": "markdown",
      "metadata": {
        "id": "8E10QUvU3WCE"
      },
      "source": [
        "for x in range(len(r))\\\n",
        "here x will store the value from 0 as the  length of r starting from 0 \\\n"
      ]
    },
    {
      "cell_type": "code",
      "execution_count": null,
      "metadata": {
        "colab": {
          "base_uri": "https://localhost:8080/"
        },
        "id": "W4ZPczFa3NLQ",
        "outputId": "436ef8c6-d5d3-4fa8-8e95-cf7848991045"
      },
      "outputs": [
        {
          "name": "stdout",
          "output_type": "stream",
          "text": [
            "1\n"
          ]
        }
      ],
      "source": [
        "print(r.index(r[8]))"
      ]
    },
    {
      "cell_type": "code",
      "execution_count": null,
      "metadata": {
        "colab": {
          "base_uri": "https://localhost:8080/"
        },
        "id": "nnzq1I0g7ZZ3",
        "outputId": "30931d73-2e1b-4814-8891-3b45c68db3b9"
      },
      "outputs": [
        {
          "name": "stdout",
          "output_type": "stream",
          "text": [
            "3\n"
          ]
        }
      ],
      "source": [
        "print(r.index(4))"
      ]
    },
    {
      "cell_type": "code",
      "execution_count": null,
      "metadata": {
        "colab": {
          "base_uri": "https://localhost:8080/"
        },
        "id": "ar4Z3BFn-5Lp",
        "outputId": "d32fcdb0-bc49-43c4-a563-5b7c7e77a956"
      },
      "outputs": [
        {
          "name": "stdout",
          "output_type": "stream",
          "text": [
            "False\n"
          ]
        }
      ],
      "source": [
        "a = [1, 1, 2, 3, 5, 8, 13, 21, 34, 55, 89]\n",
        "b = [1, 2, 3, 4, 5, 6, 7, 8, 9, 10, 11, 12, 13]\n",
        "c= a in b\n",
        "print(c)"
      ]
    },
    {
      "cell_type": "code",
      "execution_count": null,
      "metadata": {
        "colab": {
          "base_uri": "https://localhost:8080/"
        },
        "id": "_1PQkG6Z_vTc",
        "outputId": "9461e663-c730-4ee5-d2b8-fba237db562f"
      },
      "outputs": [
        {
          "data": {
            "text/plain": [
              "[1, 2, 3, 4, 5, 6, 7, 8, 9, 10, 11, 12, 13]"
            ]
          },
          "execution_count": 28,
          "metadata": {},
          "output_type": "execute_result"
        }
      ],
      "source": [
        "[a[i] for i in range(len(a)) if i == a.index(a[i])]\n",
        "[b[i] for i in range(len(b)) if i == b.index(b[i])]"
      ]
    },
    {
      "cell_type": "code",
      "execution_count": null,
      "metadata": {
        "colab": {
          "base_uri": "https://localhost:8080/"
        },
        "id": "K7qPRHiPAJPn",
        "outputId": "8dab913a-53d6-45ac-8d09-42acff505a50"
      },
      "outputs": [
        {
          "name": "stdout",
          "output_type": "stream",
          "text": [
            "the quick brown fox jumps over the lazy dog.\n",
            "the tuick brown fox jumps over the lazy dog.\n"
          ]
        }
      ],
      "source": [
        "string = \"the quick brown fox jumps over the lazy dog.\"\n",
        "print(string)\n",
        "stol=list(string)\n",
        "stol[4]=\"t\"\n",
        "#print(stol)\n",
        "string1 = ''.join(stol)\n",
        "print(string1)"
      ]
    },
    {
      "cell_type": "code",
      "execution_count": null,
      "metadata": {
        "colab": {
          "base_uri": "https://localhost:8080/"
        },
        "id": "D8fSSf0xUxFP",
        "outputId": "9c7980fd-6914-4490-a4c7-fafa42c1b0cc"
      },
      "outputs": [
        {
          "name": "stdout",
          "output_type": "stream",
          "text": [
            "The Quick Brown Fox Jumps Over The Lazy Dog.\n"
          ]
        }
      ],
      "source": [
        "string2=\"the quick brown fox jumps over the lazy dog.\"\n",
        "print(string2.title())"
      ]
    },
    {
      "cell_type": "markdown",
      "metadata": {
        "id": "toazonbAESaq"
      },
      "source": [
        "## capitalize"
      ]
    },
    {
      "cell_type": "markdown",
      "metadata": {
        "id": "mn14eLz2kDZb"
      },
      "source": [
        "First alphabet becomes capital of every word if we use title method\\\n",
        "The title() method scans the string and identifies word boundaries based on whitespace characters."
      ]
    },
    {
      "cell_type": "code",
      "execution_count": null,
      "metadata": {
        "colab": {
          "base_uri": "https://localhost:8080/"
        },
        "id": "VzzytWYZj9jr",
        "outputId": "1d4c72ca-0e87-4fcf-b821-9c825832402e"
      },
      "outputs": [
        {
          "name": "stdout",
          "output_type": "stream",
          "text": [
            "['the', 'quick', 'brown', 'fox', 'jumps', 'over', 'the', 'lazy', 'dog.']\n"
          ]
        }
      ],
      "source": [
        "stringlist=string.split()\n",
        "print(stringlist)"
      ]
    },
    {
      "cell_type": "markdown",
      "metadata": {
        "id": "0VEZM5TRBup5"
      },
      "source": [
        "## convert the given string into list"
      ]
    },
    {
      "cell_type": "code",
      "execution_count": null,
      "metadata": {
        "colab": {
          "base_uri": "https://localhost:8080/"
        },
        "id": "da-wEZben-zy",
        "outputId": "d9aebb7f-4f2e-49e4-e5fb-60be269f333c"
      },
      "outputs": [
        {
          "name": "stdout",
          "output_type": "stream",
          "text": [
            "9\n"
          ]
        }
      ],
      "source": [
        "print(len(stringlist))"
      ]
    },
    {
      "cell_type": "code",
      "execution_count": null,
      "metadata": {
        "colab": {
          "base_uri": "https://localhost:8080/"
        },
        "id": "uwlnsHVPsuKI",
        "outputId": "317571f9-4388-4491-92c2-12759f5040a4"
      },
      "outputs": [
        {
          "name": "stdout",
          "output_type": "stream",
          "text": [
            "44\n"
          ]
        }
      ],
      "source": [
        "print(len(string))"
      ]
    },
    {
      "cell_type": "code",
      "execution_count": null,
      "metadata": {
        "colab": {
          "base_uri": "https://localhost:8080/"
        },
        "id": "q7GPi6E1sy6f",
        "outputId": "f5cc1724-db91-491c-daf1-2e9333db1294"
      },
      "outputs": [
        {
          "name": "stdout",
          "output_type": "stream",
          "text": [
            "The\n",
            "Quick\n",
            "Brown\n",
            "Fox\n",
            "Jumps\n",
            "over\n",
            "The\n",
            "lazy\n",
            "dog.\n"
          ]
        }
      ],
      "source": [
        "for x in stringlist:\n",
        "  if len(x)%2!=0:\n",
        "    print(x.capitalize())\n",
        "  else:\n",
        "    print(x)"
      ]
    },
    {
      "cell_type": "markdown",
      "metadata": {
        "id": "hiI5AruvCV96"
      },
      "source": [
        "## checks the word is odd or even"
      ]
    },
    {
      "cell_type": "code",
      "execution_count": null,
      "metadata": {
        "colab": {
          "base_uri": "https://localhost:8080/"
        },
        "id": "7IgsZ8mIwvlN",
        "outputId": "0ba92c03-8a78-45bf-8cb9-75e045d883d9"
      },
      "outputs": [
        {
          "name": "stdout",
          "output_type": "stream",
          "text": [
            "['t', 'h', 'e', ' ', 't', 'u', 'i', 'c', 'k', ' ', 'b', 'r', 'o', 'w', 'n', ' ', 'f', 'o', 'x', ' ', 'j', 'u', 'm', 'p', 's', ' ', 'o', 'v', 'e', 'r', ' ', 't', 'h', 'e', ' ', 'l', 'a', 'z', 'y', ' ', 'd', 'o', 'g', '.']\n"
          ]
        }
      ],
      "source": [
        "print(stol)"
      ]
    },
    {
      "cell_type": "code",
      "execution_count": null,
      "metadata": {
        "colab": {
          "base_uri": "https://localhost:8080/"
        },
        "id": "Vt83C2ER1nrx",
        "outputId": "439715a7-0c0b-46a1-f5fa-27b28d38d742"
      },
      "outputs": [
        {
          "name": "stdout",
          "output_type": "stream",
          "text": [
            "['t', 'h', 'e', 'u', 'i', 'c', 'k', 'b', 'r', 'o', 'w', 'n', 'f', 'x', ' ', 'j', 'm', 'p', 's', 'v', 'l', 'a', 'z', 'y', 'd', 'g']\n"
          ]
        }
      ],
      "source": [
        "print([stol[i] for i in range(len(stol)) if i == stol.index(stol[i])])\n"
      ]
    },
    {
      "cell_type": "code",
      "execution_count": null,
      "metadata": {
        "colab": {
          "base_uri": "https://localhost:8080/",
          "height": 35
        },
        "id": "crjnLrhk10Cz",
        "outputId": "33df7395-eb27-4eb3-eec7-d7b35ab7edd3"
      },
      "outputs": [
        {
          "data": {
            "application/vnd.google.colaboratory.intrinsic+json": {
              "type": "string"
            },
            "text/plain": [
              "'thw quick brown fox jumps ovwr the lazy dog.'"
            ]
          },
          "execution_count": 33,
          "metadata": {},
          "output_type": "execute_result"
        }
      ],
      "source": [
        "string.replace(\"e\",\"w\",2)"
      ]
    },
    {
      "cell_type": "markdown",
      "metadata": {
        "id": "2Qg5vh627DvF"
      },
      "source": [
        "replaceing the alphabet \\\n"
      ]
    },
    {
      "cell_type": "code",
      "execution_count": null,
      "metadata": {
        "colab": {
          "base_uri": "https://localhost:8080/"
        },
        "id": "5h2Px3NV-8Yx",
        "outputId": "a8ffb09e-fd6b-4d70-ec7a-f8b757832055"
      },
      "outputs": [
        {
          "name": "stdout",
          "output_type": "stream",
          "text": [
            "['t', 'h', 'e', 'q', 'u', 'i', 'c', 'k', 'b', 'r', 'o', 'w', 'n', 'f', 'x', 'j', 'm', 'p', 's', 'v', 'l', 'a', 'z', 'y', 'd', 'g']\n"
          ]
        }
      ],
      "source": [
        "str12=\"The quick brown fox jumps over the lazy dog\"\n",
        "new_string=[]\n",
        "for i in str12.casefold():\n",
        "  if i.isalpha()==True and i not in new_string:\n",
        "    new_string.append(i)\n",
        "print(new_string)"
      ]
    },
    {
      "cell_type": "code",
      "execution_count": null,
      "metadata": {
        "colab": {
          "base_uri": "https://localhost:8080/"
        },
        "id": "CzN3s2G10gtD",
        "outputId": "7bab79da-c9fa-4760-b228-a2c0f200a16a"
      },
      "outputs": [
        {
          "name": "stdout",
          "output_type": "stream",
          "text": [
            "['a', 'b', 'c', 'd', 'e', 'f', 'g', 'h', 'i', 'j', 'k', 'l', 'm', 'n', 'o', 'p', 'q', 'r', 's', 't', 'u', 'v', 'w', 'x', 'y', 'z']\n"
          ]
        }
      ],
      "source": [
        "new_string.sort()\n",
        "print(new_string)"
      ]
    },
    {
      "cell_type": "code",
      "execution_count": null,
      "metadata": {
        "colab": {
          "base_uri": "https://localhost:8080/",
          "height": 35
        },
        "id": "V2VwoYYYArSc",
        "outputId": "f3324793-b4ae-4d6c-8ef8-14643041f746"
      },
      "outputs": [
        {
          "data": {
            "application/vnd.google.colaboratory.intrinsic+json": {
              "type": "string"
            },
            "text/plain": [
              "'The Quick Brown Fox Jumps Over The Lazy Dog'"
            ]
          },
          "execution_count": 50,
          "metadata": {},
          "output_type": "execute_result"
        }
      ],
      "source": [
        "str12.title()"
      ]
    },
    {
      "cell_type": "code",
      "execution_count": null,
      "metadata": {
        "colab": {
          "base_uri": "https://localhost:8080/"
        },
        "id": "cUPZhxrvBku7",
        "outputId": "704dc8b1-7b75-4dd7-b8e0-8bc53849136f"
      },
      "outputs": [
        {
          "name": "stdout",
          "output_type": "stream",
          "text": [
            "['over', 'lazy', 'dog.']\n",
            "['The', 'Quick', 'Brown', 'Fox', 'Jumps', 'The']\n"
          ]
        }
      ],
      "source": [
        "even_list=[]\n",
        "odd_list=[]\n",
        "for x in stringlist:\n",
        "  if len(x)%2!=0:\n",
        "    odd_list.append((x.capitalize()))\n",
        "  else:\n",
        "    even_list.append(x)\n",
        "print(even_list)\n",
        "print(odd_list)\n"
      ]
    },
    {
      "cell_type": "code",
      "execution_count": null,
      "metadata": {
        "id": "_sq58wH8J75A"
      },
      "outputs": [],
      "source": []
    },
    {
      "cell_type": "markdown",
      "metadata": {
        "id": "1hMh5A2yDfXh"
      },
      "source": [
        "## list the words into even and odd"
      ]
    },
    {
      "cell_type": "code",
      "execution_count": null,
      "metadata": {
        "colab": {
          "base_uri": "https://localhost:8080/",
          "height": 35
        },
        "id": "CqEelz-_Da3M",
        "outputId": "728a2fbb-a40b-4b21-ea59-391b8ed4a459"
      },
      "outputs": [
        {
          "data": {
            "application/vnd.google.colaboratory.intrinsic+json": {
              "type": "string"
            },
            "text/plain": [
              "'The Quick Brown Fox Jumps Over The Lazy Dog'"
            ]
          },
          "execution_count": 54,
          "metadata": {},
          "output_type": "execute_result"
        }
      ],
      "source": [
        "its_a_example_str=\"THE QUICK BROWN fox jumps over the lazy dog\"\n",
        "its_a_example_str.title()"
      ]
    },
    {
      "cell_type": "code",
      "execution_count": null,
      "metadata": {
        "colab": {
          "base_uri": "https://localhost:8080/",
          "height": 35
        },
        "id": "e4BHocCpGSYE",
        "outputId": "e98c819d-4497-40af-9854-dca4a99c79b5"
      },
      "outputs": [
        {
          "data": {
            "application/vnd.google.colaboratory.intrinsic+json": {
              "type": "string"
            },
            "text/plain": [
              "'the quick brown fox jumps over the lazy dog'"
            ]
          },
          "execution_count": 55,
          "metadata": {},
          "output_type": "execute_result"
        }
      ],
      "source": [
        "its_a_example_str.lower()"
      ]
    },
    {
      "cell_type": "code",
      "execution_count": null,
      "metadata": {
        "colab": {
          "base_uri": "https://localhost:8080/"
        },
        "id": "KTuMH227IUOW",
        "outputId": "2e15b31d-b3de-4085-8e17-96b684ae78a8"
      },
      "outputs": [
        {
          "name": "stdout",
          "output_type": "stream",
          "text": [
            "My name is Ram and I am 22 years old. 22 is my favorite number.\n"
          ]
        }
      ],
      "source": [
        "name = \"Ram\"\n",
        "age = 22\n",
        "message = \"My name is {0} and I am {1} years old. {1} is my favorite number.\"\n",
        "print(message.format(name, age))"
      ]
    },
    {
      "cell_type": "markdown",
      "metadata": {
        "id": "prT22PLRg6bf"
      },
      "source": [
        "using format method"
      ]
    },
    {
      "cell_type": "code",
      "execution_count": null,
      "metadata": {
        "colab": {
          "base_uri": "https://localhost:8080/"
        },
        "id": "SHf_4XNMfyOC",
        "outputId": "c4d05dc8-7ef2-4d08-c025-267bbbe5d763"
      },
      "outputs": [
        {
          "name": "stdout",
          "output_type": "stream",
          "text": [
            "I have 4.000000000000000 Rupees!\n"
          ]
        }
      ],
      "source": [
        "txt = \"I have {an:.15f} Rupees!\"\n",
        "print(txt.format(an = 4))"
      ]
    },
    {
      "cell_type": "markdown",
      "metadata": {
        "id": "zkPgSHYMhKsY"
      },
      "source": [
        "This method of the built-in string class provides functionality for complex variable substitutions and value formatting. This new formatting technique is regarded as more elegant. The general syntax of format() method is string.format(var1, var2,…)."
      ]
    },
    {
      "cell_type": "code",
      "execution_count": null,
      "metadata": {
        "colab": {
          "base_uri": "https://localhost:8080/",
          "height": 35
        },
        "id": "ey162qLe1BB2",
        "outputId": "3eaa31b5-6f45-4190-f127-3547791f49f6"
      },
      "outputs": [
        {
          "data": {
            "application/vnd.google.colaboratory.intrinsic+json": {
              "type": "string"
            },
            "text/plain": [
              "\"Hello It'S Me\""
            ]
          },
          "execution_count": 15,
          "metadata": {},
          "output_type": "execute_result"
        }
      ],
      "source": [
        "string9=\"hello it's me\"\n",
        "string9.title()"
      ]
    },
    {
      "cell_type": "code",
      "execution_count": null,
      "metadata": {
        "colab": {
          "base_uri": "https://localhost:8080/"
        },
        "id": "1kZxbrvW5ZWv",
        "outputId": "9501d51c-2ccd-4194-8aec-c04a0a4dc761"
      },
      "outputs": [
        {
          "name": "stdout",
          "output_type": "stream",
          "text": [
            "1\n",
            "2\n",
            "3\n"
          ]
        }
      ],
      "source": [
        "i = 1\n",
        "while i < 6:\n",
        "  print(i)\n",
        "  if (i == 3):\n",
        "    break\n",
        "  i += 1"
      ]
    },
    {
      "cell_type": "code",
      "execution_count": null,
      "metadata": {
        "colab": {
          "base_uri": "https://localhost:8080/"
        },
        "id": "kqm1FLy9DOvD",
        "outputId": "b72332a6-87fa-46f6-c8b8-75d3fb357889"
      },
      "outputs": [
        {
          "name": "stdout",
          "output_type": "stream",
          "text": [
            "Enter a number: 3\n",
            "Its to small\n",
            "Enter a number: 6\n",
            "Its to small\n",
            "Enter a number: 8\n",
            "Its to small\n",
            "Enter a number: 9\n",
            "Its to small\n",
            "Enter a number: 10\n",
            "You guessed it correct\n",
            "You iterated= 5\n"
          ]
        }
      ],
      "source": [
        "import random\n",
        "secret_number=random.randint(0,10)\n",
        "count=0\n",
        "while True:\n",
        "  user_input=int(input(\"Enter a number: \"))\n",
        "  if secret_number==user_input:\n",
        "    print(\"You guessed it correct\")\n",
        "    count+=1\n",
        "    break\n",
        "  elif secret_number<user_input:\n",
        "      print(\"Its to big\")\n",
        "      count+=1\n",
        "  else:\n",
        "        print(\"Its to small\")\n",
        "        count+=1\n",
        "#print(secret_number)\n",
        "print(\"You iterated=\",count)"
      ]
    },
    {
      "cell_type": "code",
      "execution_count": null,
      "metadata": {
        "colab": {
          "base_uri": "https://localhost:8080/"
        },
        "id": "BfHQAB0lLGnB",
        "outputId": "64a44d88-f711-4b7d-ca75-c59856c6bd8c"
      },
      "outputs": [
        {
          "name": "stdout",
          "output_type": "stream",
          "text": [
            "Please enter a number between 0 to 9 to guess the number or press exit to leave the game\n",
            "4\n",
            "My number is lesser than 4\n",
            "6\n",
            "My number is lesser than 6\n",
            "8\n",
            "My number is lesser than 8\n",
            "2\n",
            "My number is lesser than 2\n",
            "1\n",
            "My number is lesser than 1\n",
            "0\n",
            "Well done!It's a correct number\n",
            "1\n"
          ]
        }
      ],
      "source": [
        "print(\"Please enter a number between 0 to 9 to guess the number or press exit to leave the game\")\n",
        "import random\n",
        "secret_number = random.randint(0,9)\n",
        "count=0\n",
        "while True:\n",
        "  user_input = input()\n",
        "  if user_input.lower() == 'exit':\n",
        "     print(\"Thanks for playing the game!The secret number was \",secret_number)\n",
        "     print(count)\n",
        "     break\n",
        "  elif user_input.isalpha():\n",
        "    print(\"Invalid input\")\n",
        "  else:\n",
        "     user_input = int(user_input)\n",
        "     count=+1\n",
        "     if user_input not in range(0,10):\n",
        "        print(\"Invalid input!Please choose the number in the range 0 to 9\")\n",
        "     else:\n",
        "      if user_input == secret_number:\n",
        "        print(\"Well done!It's a correct number\")\n",
        "        print(count)\n",
        "        break\n",
        "      elif secret_number> user_input:\n",
        "        print(\"My number is bigger than\", user_input)\n",
        "      else:\n",
        "        print(\"My number is lesser than\",user_input)\n"
      ]
    },
    {
      "cell_type": "code",
      "execution_count": null,
      "metadata": {
        "colab": {
          "base_uri": "https://localhost:8080/"
        },
        "id": "l_K91PPOtQY_",
        "outputId": "885a34bf-aaa6-489f-abc1-105a49818096"
      },
      "outputs": [
        {
          "name": "stdout",
          "output_type": "stream",
          "text": [
            "\n",
            "Tuple with nested tuples: \n",
            "[[0, 1, 2, 3], ['python', 'geek']]\n"
          ]
        }
      ],
      "source": [
        "Tuple1 = [0, 1, 2, 3]\n",
        "Tuple2 = ['python', 'geek']\n",
        "Tuple3 = [Tuple1, Tuple2]\n",
        "print(\"\\nTuple with nested tuples: \")\n",
        "print(Tuple3)"
      ]
    },
    {
      "cell_type": "code",
      "execution_count": null,
      "metadata": {
        "colab": {
          "base_uri": "https://localhost:8080/"
        },
        "id": "qsRa4teADnkM",
        "outputId": "39bae265-ff6e-4f18-fbf3-2a8ea11c6619"
      },
      "outputs": [
        {
          "name": "stdout",
          "output_type": "stream",
          "text": [
            "\n",
            "Tuple with a loop\n",
            "Geeks\n"
          ]
        }
      ],
      "source": [
        "# Creating a Tuple\n",
        "# with the use of loop\n",
        "Tuple1 = ('Geeks')\n",
        "n = 5\n",
        "print(\"\\nTuple with a loop\")\n",
        "#for i in range(int(n)):\n",
        "    #Tuple1 = (Tuple1,)\n",
        "print(Tuple1)"
      ]
    },
    {
      "cell_type": "code",
      "execution_count": null,
      "metadata": {
        "colab": {
          "base_uri": "https://localhost:8080/"
        },
        "id": "A7I9eC-gEMr0",
        "outputId": "98abf6ab-511a-4ba4-b65a-441bc7269be8"
      },
      "outputs": [
        {
          "name": "stdout",
          "output_type": "stream",
          "text": [
            "\n",
            "Tuple with a loop\n",
            "('Geeks',)\n",
            "(('Geeks',),)\n",
            "((('Geeks',),),)\n",
            "(((('Geeks',),),),)\n",
            "((((('Geeks',),),),),)\n"
          ]
        }
      ],
      "source": [
        "# Creating a Tuple\n",
        "# with the use of loop\n",
        "Tuple1 = ('Geeks')\n",
        "n = 5\n",
        "print(\"\\nTuple with a loop\")\n",
        "for i in range(int(n)):\n",
        "    Tuple1 = (Tuple1,)\n",
        "    print(Tuple1)"
      ]
    },
    {
      "cell_type": "code",
      "execution_count": null,
      "metadata": {
        "colab": {
          "base_uri": "https://localhost:8080/"
        },
        "id": "lN-mIeyYER-C",
        "outputId": "83bf48f6-d2ba-4e42-a0c7-194a5219009d"
      },
      "outputs": [
        {
          "name": "stdout",
          "output_type": "stream",
          "text": [
            "tuple packing is (1, 2, 3, 4)\n"
          ]
        }
      ],
      "source": [
        "t1= 1,2,3,4\n",
        "print(\"tuple packing is\",t1)"
      ]
    },
    {
      "cell_type": "code",
      "execution_count": null,
      "metadata": {
        "colab": {
          "base_uri": "https://localhost:8080/"
        },
        "id": "IuKMW2NWFFEV",
        "outputId": "6a2676de-0717-41e6-c5a5-45f40b04e89e"
      },
      "outputs": [
        {
          "data": {
            "text/plain": [
              "1"
            ]
          },
          "execution_count": 23,
          "metadata": {},
          "output_type": "execute_result"
        }
      ],
      "source": [
        "t1.count(4)"
      ]
    },
    {
      "cell_type": "code",
      "execution_count": null,
      "metadata": {
        "colab": {
          "base_uri": "https://localhost:8080/"
        },
        "id": "J8ICzH2CJRHS",
        "outputId": "0be8eee5-4267-4a96-b343-28d51fd82fde"
      },
      "outputs": [
        {
          "name": "stdout",
          "output_type": "stream",
          "text": [
            "4\n"
          ]
        }
      ],
      "source": [
        "print(len(t1))"
      ]
    },
    {
      "cell_type": "code",
      "execution_count": null,
      "metadata": {
        "colab": {
          "base_uri": "https://localhost:8080/"
        },
        "id": "-vdGe2WkJXVS",
        "outputId": "835386ab-53e2-4331-a455-b4fbeec87803"
      },
      "outputs": [
        {
          "name": "stdout",
          "output_type": "stream",
          "text": [
            "True\n"
          ]
        }
      ],
      "source": [
        "print(any(Tuple1))"
      ]
    },
    {
      "cell_type": "code",
      "execution_count": null,
      "metadata": {
        "colab": {
          "base_uri": "https://localhost:8080/"
        },
        "id": "dLVawIAkMNMv",
        "outputId": "06829310-fc46-463f-b2e6-d271edaebd6e"
      },
      "outputs": [
        {
          "name": "stdout",
          "output_type": "stream",
          "text": [
            "Return type: <class 'enumerate'>\n",
            "[(0, 'eat'), (1, 'sleep'), (2, 'repeat')]\n",
            "[(2, 'g'), (3, 'e'), (4, 'e'), (5, 'k')]\n"
          ]
        }
      ],
      "source": [
        "l1 = [\"eat\", \"sleep\", \"repeat\"]\n",
        "s1 = \"geek\"\n",
        "\n",
        "# creating enumerate objects\n",
        "obj1 = enumerate(l1)\n",
        "obj2 = enumerate(s1)\n",
        "\n",
        "print (\"Return type:\", type(obj1))\n",
        "print (list(enumerate(l1)))\n",
        "\n",
        "# changing start index to 2 from 0\n",
        "print (list(enumerate(s1, 2)))"
      ]
    },
    {
      "cell_type": "code",
      "execution_count": null,
      "metadata": {
        "colab": {
          "base_uri": "https://localhost:8080/"
        },
        "id": "7FF3Q-ciNV3o",
        "outputId": "cd6cb402-d872-45af-84c7-32aab32a6724"
      },
      "outputs": [
        {
          "name": "stdout",
          "output_type": "stream",
          "text": [
            "<enumerate object at 0x7ae37038f900>\n"
          ]
        }
      ],
      "source": [
        "print(enumerate(l1))"
      ]
    },
    {
      "cell_type": "code",
      "execution_count": null,
      "metadata": {
        "colab": {
          "base_uri": "https://localhost:8080/"
        },
        "id": "SI4LGwqVO6Je",
        "outputId": "c2476802-a59b-4112-92d9-a3234530a507"
      },
      "outputs": [
        {
          "name": "stdout",
          "output_type": "stream",
          "text": [
            "[(0, 'eat'), (1, 'sleep'), (2, 'repeat')]\n"
          ]
        }
      ],
      "source": [
        "print(list(enumerate(l1)))"
      ]
    },
    {
      "cell_type": "code",
      "execution_count": null,
      "metadata": {
        "colab": {
          "base_uri": "https://localhost:8080/"
        },
        "id": "t6ySauIRPHXR",
        "outputId": "58f367f7-247c-4366-abc6-3a52c6b214b7"
      },
      "outputs": [
        {
          "name": "stdout",
          "output_type": "stream",
          "text": [
            "repeat\n"
          ]
        }
      ],
      "source": [
        "l2=max(l1,key=len)\n",
        "print(l2)"
      ]
    },
    {
      "cell_type": "code",
      "execution_count": null,
      "metadata": {
        "colab": {
          "base_uri": "https://localhost:8080/"
        },
        "id": "4Onokc6iPhEw",
        "outputId": "b0ae74f7-35e6-47ca-cb01-beb351f4ce5d"
      },
      "outputs": [
        {
          "name": "stdout",
          "output_type": "stream",
          "text": [
            "Minaz\n"
          ]
        }
      ],
      "source": [
        "l1=[\"Minaz\",\"Rekha\",\"prajyna\",\"wajida\" ]\n",
        "l2=min(l1)\n",
        "print(l2)"
      ]
    },
    {
      "cell_type": "code",
      "execution_count": null,
      "metadata": {
        "colab": {
          "base_uri": "https://localhost:8080/"
        },
        "id": "9GriqRnXQtml",
        "outputId": "6330ef2e-3ca5-4aae-a3bf-dfd5aa2cdfd8"
      },
      "outputs": [
        {
          "data": {
            "text/plain": [
              "15"
            ]
          },
          "execution_count": 35,
          "metadata": {},
          "output_type": "execute_result"
        }
      ],
      "source": [
        "l3=[1,2,3,4,5]\n",
        "sum(l3)"
      ]
    },
    {
      "cell_type": "code",
      "execution_count": null,
      "metadata": {
        "colab": {
          "base_uri": "https://localhost:8080/"
        },
        "id": "--kM7Z-pTG1W",
        "outputId": "63ddcd76-01a5-4532-a677-4a6fbfce0f09"
      },
      "outputs": [
        {
          "data": {
            "text/plain": [
              "20"
            ]
          },
          "execution_count": 36,
          "metadata": {},
          "output_type": "execute_result"
        }
      ],
      "source": [
        "sum(l3,5) #it sums all elements from sum and then adds it with 5"
      ]
    },
    {
      "cell_type": "code",
      "execution_count": null,
      "metadata": {
        "colab": {
          "base_uri": "https://localhost:8080/"
        },
        "id": "xQby-5osTOIA",
        "outputId": "46b4cc27-0017-43c1-e050-c297a803f941"
      },
      "outputs": [
        {
          "name": "stdout",
          "output_type": "stream",
          "text": [
            "['minaz', 'prajyna', 'rekha', 'wajida']\n"
          ]
        }
      ],
      "source": [
        "l22=[\"minaz\",\"wajida\",\"rekha\",\"prajyna\"]\n",
        "l22.sort()\n",
        "print(l22)"
      ]
    },
    {
      "cell_type": "code",
      "execution_count": null,
      "metadata": {
        "colab": {
          "base_uri": "https://localhost:8080/"
        },
        "id": "80xvB4Qpp7e3",
        "outputId": "0059cba9-7113-434d-a780-cd161529be54"
      },
      "outputs": [
        {
          "name": "stdout",
          "output_type": "stream",
          "text": [
            "['wajida', 'rekha', 'prajyna', 'minaz']\n"
          ]
        }
      ],
      "source": [
        "print(sorted(l22,reverse=True))"
      ]
    },
    {
      "cell_type": "code",
      "execution_count": null,
      "metadata": {
        "colab": {
          "base_uri": "https://localhost:8080/"
        },
        "id": "QZvclqMbql3M",
        "outputId": "8efb22ca-afd7-4548-dc24-0f707cf389c3"
      },
      "outputs": [
        {
          "data": {
            "text/plain": [
              "5"
            ]
          },
          "execution_count": 3,
          "metadata": {},
          "output_type": "execute_result"
        }
      ],
      "source": [
        "l23=['q','w','e','a','r']\n",
        "len(l23)"
      ]
    },
    {
      "cell_type": "code",
      "execution_count": null,
      "metadata": {
        "colab": {
          "base_uri": "https://localhost:8080/"
        },
        "id": "BU00oRgP8l0p",
        "outputId": "0cbfb722-db89-4a42-b9d5-7c63409ae0f9"
      },
      "outputs": [
        {
          "name": "stdout",
          "output_type": "stream",
          "text": [
            "['a', 'e', 'q', 'r', 'w']\n"
          ]
        }
      ],
      "source": [
        "l23.sort()\n",
        "print(l23)"
      ]
    },
    {
      "cell_type": "code",
      "execution_count": null,
      "metadata": {
        "colab": {
          "base_uri": "https://localhost:8080/"
        },
        "id": "tL4a4tW68qxM",
        "outputId": "6bf5460e-c0a1-4703-a257-53b7008be9ed"
      },
      "outputs": [
        {
          "name": "stdout",
          "output_type": "stream",
          "text": [
            "who r u wajida\n",
            "wow,wajida,you rock\n"
          ]
        }
      ],
      "source": [
        "print(\"wow,\"+ input(\"who r u \")+\",you rock\")"
      ]
    },
    {
      "cell_type": "code",
      "execution_count": null,
      "metadata": {
        "colab": {
          "base_uri": "https://localhost:8080/"
        },
        "id": "nn8uP86FVasA",
        "outputId": "ad1cdc7a-0c69-4f26-a032-6b55899b49d3"
      },
      "outputs": [
        {
          "name": "stdout",
          "output_type": "stream",
          "text": [
            "how old are you?  24\n",
            "What year is it?  2023\n",
            "In 2041,you will be 42\n"
          ]
        }
      ],
      "source": [
        "age: int = int(input (\"how old are you?  \"))\n",
        "year : int = int(input(\"What year is it?  \"))\n",
        "age_in_2041 : int=2041- year + age\n",
        "print (\"In 2041,you will be \" + str(age_in_2041))"
      ]
    },
    {
      "cell_type": "code",
      "execution_count": null,
      "metadata": {
        "colab": {
          "base_uri": "https://localhost:8080/"
        },
        "id": "kriJidamaaG8",
        "outputId": "7ae97242-21a5-4839-9a2f-5f68f3b6fd84"
      },
      "outputs": [
        {
          "name": "stdout",
          "output_type": "stream",
          "text": [
            "enter a number2345\n",
            "2345\n"
          ]
        }
      ],
      "source": [
        "just_to_check : int =input(\"enter a number\")\n",
        "print(just_to_check)"
      ]
    },
    {
      "cell_type": "code",
      "execution_count": null,
      "metadata": {
        "colab": {
          "base_uri": "https://localhost:8080/"
        },
        "id": "eFbFHQDZ882R",
        "outputId": "37082818-f84a-4893-a496-65e0fda8908e"
      },
      "outputs": [
        {
          "name": "stdout",
          "output_type": "stream",
          "text": [
            "Put the Count  4\n",
            "the square of0 is 0\n",
            "the square of1 is 1\n",
            "the square of2 is 4\n",
            "the square of3 is 9\n"
          ]
        }
      ],
      "source": [
        "counter : int =0\n",
        "maximum : int= int(input(\"Put the Count  \"))\n",
        "while counter < maximum < 7:\n",
        "  counter_squared= counter ** 2\n",
        "  print(\"the square of\"+str(counter)+\" is \"+str(counter_squared))\n",
        "  counter=counter+1"
      ]
    },
    {
      "cell_type": "code",
      "execution_count": null,
      "metadata": {
        "colab": {
          "base_uri": "https://localhost:8080/"
        },
        "id": "DGiUf8UtBPnZ",
        "outputId": "2aec1bfc-22ba-48ab-dc05-5a5ac6f529c5"
      },
      "outputs": [
        {
          "data": {
            "text/plain": [
              "True"
            ]
          },
          "execution_count": 20,
          "metadata": {},
          "output_type": "execute_result"
        }
      ],
      "source": [
        "True or True and not false"
      ]
    },
    {
      "cell_type": "code",
      "execution_count": null,
      "metadata": {
        "colab": {
          "base_uri": "https://localhost:8080/"
        },
        "id": "55zFsA5CHBHN",
        "outputId": "b522700f-0564-490a-f950-5ad5823936dc"
      },
      "outputs": [
        {
          "name": "stdout",
          "output_type": "stream",
          "text": [
            "Give a number less then 0:  4\n",
            "heeeeheeeheehe\n"
          ]
        }
      ],
      "source": [
        "i:int = int(input(\"Give a number less then 0:  \"))\n",
        "s:str = \"\"\n",
        "\n",
        "while i>0:\n",
        "  s=s+\"h\"\n",
        "  h:int = 0\n",
        "  while h<i:\n",
        "    s = s + \"e\"\n",
        "    h = h + 1\n",
        "  i = i - 1\n",
        "print(s)"
      ]
    },
    {
      "cell_type": "markdown",
      "metadata": {
        "id": "Cb4ygjWqkOOc"
      },
      "source": [
        "(from random import rand int) meaning random is a  package in python and randint will generate a random integer"
      ]
    },
    {
      "cell_type": "code",
      "execution_count": null,
      "metadata": {
        "colab": {
          "base_uri": "https://localhost:8080/"
        },
        "id": "FlI-D_nFdP_K",
        "outputId": "8a45689c-c16e-40ad-9e09-c1c679fbe2ee"
      },
      "outputs": [
        {
          "name": "stdout",
          "output_type": "stream",
          "text": [
            "Ask yes /no question:  will i score good marks\n",
            "Cannot predict now\n"
          ]
        }
      ],
      "source": [
        "\"\"\" An oracle that predicts the future\n",
        "\n",
        "As I see it, yes\n",
        "Ask again later\n",
        "Better not tell you now\n",
        "Cannot predict now\n",
        "Concentrate and ask again\n",
        "Don’t count on it\n",
        "It is certain\n",
        "It is decidedly so\n",
        "Most likely\n",
        "My reply is no\n",
        "My sources say no\n",
        "Outlook good\n",
        "Outlook not so good\n",
        "Reply hazy try again\n",
        "Signs point to yes\n",
        "Very doubtful\n",
        "Without a doubt\n",
        "Yes\n",
        "Yes, definitely\n",
        "You may rely on it\n",
        "\n",
        " \"\"\"\n",
        "from random import randint\n",
        "input(\"Ask yes /no question:  \")\n",
        "response: int = randint(0,16)\n",
        "if response == 0:\n",
        "  print(\"As I see it, yes\")\n",
        "elif response == 1:\n",
        "  print(\"Ask again later\")\n",
        "elif response == 2:\n",
        "  print(\"Better not tell you now\")\n",
        "elif response == 3:\n",
        "  print(\"Cannot predict now\")\n",
        "elif response == 4:\n",
        "  print(\"Concentrate and ask again\")\n",
        "elif response == 5:\n",
        "  print(\"Don’t count on it\")\n",
        "elif response == 6:\n",
        "  print(\"It is decidedly so\")\n",
        "elif response == 7:\n",
        "  print(\"Most likely\")\n",
        "elif response == 8:\n",
        "  print(\"My reply is no\")\n",
        "elif response == 9:\n",
        "  print(\"My sources say no\")\n",
        "elif response == 10:\n",
        "  print(\"Good chance\")\n",
        "elif response == 11:\n",
        "  print(\"Outlook not so good\")\n",
        "elif response == 12:\n",
        "  print(\"Reply hazy try again\")\n",
        "elif response == 13:\n",
        "  print(\"Without a doubt\")\n",
        "elif response == 14:\n",
        "  print(\"You may rely on it\")\n",
        "elif response == 15:\n",
        "  print(\"Signs point to yes\")\n",
        "else:\n",
        "  print(\"nope\")"
      ]
    },
    {
      "cell_type": "code",
      "execution_count": null,
      "metadata": {
        "colab": {
          "base_uri": "https://localhost:8080/"
        },
        "id": "FdCAyzX4v1Np",
        "outputId": "45ae6880-2ffc-47fe-c2be-f27ffc4e6790"
      },
      "outputs": [
        {
          "name": "stdout",
          "output_type": "stream",
          "text": [
            "Think of a number between 1 - 100.\n",
            "Press enter to continue \n",
            "50?\n",
            "Reply yes, higher,lower :lower\n",
            "25?\n",
            "Reply yes, higher,lower :lower\n",
            "12?\n",
            "Reply yes, higher,lower :higher\n",
            "18?\n",
            "Reply yes, higher,lower :lower\n",
            "15?\n",
            "Reply yes, higher,lower :higher\n",
            "16?\n",
            "Reply yes, higher,lower :higher\n",
            "17?\n",
            "Reply yes, higher,lower :yes\n",
            "Woo!\n"
          ]
        }
      ],
      "source": [
        "low : int = 1\n",
        "high : int = 100\n",
        "print(\"Think of a number between 1 - 100.\")\n",
        "input(\"Press enter to continue \")\n",
        "playing : bool = True\n",
        "\n",
        "while playing and low <= high:\n",
        "  guess : int =(high + low) // 2\n",
        "  print(str(guess)+\"?\")\n",
        "  result : str =input(\"Reply yes, higher,lower :\")\n",
        "  if result ==\"yes\":\n",
        "    print(\"Woo!\")\n",
        "    playing = False\n",
        "  elif result == \"higher\":\n",
        "    low =guess + 1\n",
        "  else:\n",
        "    high= guess -1\n"
      ]
    },
    {
      "cell_type": "code",
      "execution_count": null,
      "metadata": {
        "colab": {
          "base_uri": "https://localhost:8080/"
        },
        "id": "hKgPM_GZG1eX",
        "outputId": "a2b1231c-a133-4782-c58c-1553a57df18b"
      },
      "outputs": [
        {
          "name": "stdout",
          "output_type": "stream",
          "text": [
            "I am currently in 110 !\n"
          ]
        }
      ],
      "source": [
        "course: int= 110\n",
        "print(\"I am currently in \" + str(course) + \" !\") # converting int to string"
      ]
    },
    {
      "cell_type": "code",
      "execution_count": null,
      "metadata": {
        "colab": {
          "base_uri": "https://localhost:8080/"
        },
        "id": "KO-ow3PAMU-7",
        "outputId": "954b1efa-0b5d-47b4-ab25-eb653caa7c05"
      },
      "outputs": [
        {
          "name": "stdout",
          "output_type": "stream",
          "text": [
            " Iam currently in 110 !\n"
          ]
        }
      ],
      "source": [
        "print(f\" Iam currently in {course} !\")"
      ]
    },
    {
      "cell_type": "code",
      "execution_count": null,
      "metadata": {
        "colab": {
          "base_uri": "https://localhost:8080/"
        },
        "id": "VFWXlbchM3ja",
        "outputId": "44cbd2d7-154b-47f4-e2a2-2113708833e5"
      },
      "outputs": [
        {
          "name": "stdout",
          "output_type": "stream",
          "text": [
            "hey  sneha u will be soon 21\n"
          ]
        }
      ],
      "source": [
        "age: int= 20\n",
        "name : str = \" sneha\"\n",
        "print(f\"hey {name} u will be soon {age+1}\") # implicitly int will get converted to string"
      ]
    },
    {
      "cell_type": "code",
      "execution_count": null,
      "metadata": {
        "colab": {
          "base_uri": "https://localhost:8080/"
        },
        "id": "tSSDgGCANYoq",
        "outputId": "18985e72-1501-4b06-f5fa-502b4a91aec1"
      },
      "outputs": [
        {
          "name": "stdout",
          "output_type": "stream",
          "text": [
            "hello,world\n"
          ]
        }
      ],
      "source": [
        "print(\"hello,world\") # print is a function"
      ]
    },
    {
      "cell_type": "code",
      "execution_count": null,
      "metadata": {
        "colab": {
          "base_uri": "https://localhost:8080/"
        },
        "id": "ePQUTCUeP0l4",
        "outputId": "fa8ac3e3-6568-4131-f96d-aef59cfce5bb"
      },
      "outputs": [
        {
          "name": "stdout",
          "output_type": "stream",
          "text": [
            "45\n"
          ]
        }
      ],
      "source": [
        "final_score : int = round(45.34) # round is a function\n",
        "print(final_score) # as of now this is a example for PROCESS ABSTRACTION we dont need to solve its alredy solved by someone"
      ]
    },
    {
      "cell_type": "code",
      "execution_count": null,
      "metadata": {
        "colab": {
          "base_uri": "https://localhost:8080/"
        },
        "id": "GnnMz82qP_ny",
        "outputId": "16605e78-fa1c-4c53-d090-68cd7a7d34f4"
      },
      "outputs": [
        {
          "name": "stdout",
          "output_type": "stream",
          "text": [
            "5.830951894845301\n"
          ]
        }
      ],
      "source": [
        "x: int =3+5j\n",
        "print(abs(x)) #what is the distance of a number from 0 in a number line"
      ]
    },
    {
      "cell_type": "code",
      "execution_count": null,
      "metadata": {
        "colab": {
          "base_uri": "https://localhost:8080/"
        },
        "id": "tHykWtYHQqL3",
        "outputId": "0bc73c6c-d9c5-4a01-88fa-6b18562b4152"
      },
      "outputs": [
        {
          "name": "stdout",
          "output_type": "stream",
          "text": [
            "2\n"
          ]
        }
      ],
      "source": [
        "from random import randint\n",
        "rolled_dice : int =randint(1,6)\n",
        "print(rolled_dice)"
      ]
    },
    {
      "cell_type": "code",
      "execution_count": null,
      "metadata": {
        "colab": {
          "base_uri": "https://localhost:8080/"
        },
        "id": "1MH8E9b_Thho",
        "outputId": "df86bc5f-cdba-452e-b6f6-e671089032d4"
      },
      "outputs": [
        {
          "name": "stdout",
          "output_type": "stream",
          "text": [
            "7\n"
          ]
        }
      ],
      "source": [
        "def myMax(a:int,b:int)-> int : #signature line /\"contact\" result in sigle int value\n",
        "  if a >= b:  # this is tje body block\n",
        "    return a # once returned value is enough it won't go to next line\n",
        "    #it will come out of the function\n",
        "\n",
        "  return b\n",
        "\n",
        "x: int = 6\n",
        "y: int = 5+2\n",
        "z: int = myMax(y,x)\n",
        "print(z)"
      ]
    },
    {
      "cell_type": "code",
      "execution_count": null,
      "metadata": {
        "colab": {
          "base_uri": "https://localhost:8080/"
        },
        "id": "SHaCZJ26ZffP",
        "outputId": "40ece4fd-09f9-4fe9-c060-5f237879dcdb"
      },
      "outputs": [
        {
          "name": "stdout",
          "output_type": "stream",
          "text": [
            " I  Stay in Dharwad\n"
          ]
        }
      ],
      "source": [
        "def city(name:str)-> str:\n",
        "  return f\" I  Stay in {name}\"\n",
        "\n",
        "print(city(\"Dharwad\"))"
      ]
    },
    {
      "cell_type": "code",
      "execution_count": null,
      "metadata": {
        "colab": {
          "base_uri": "https://localhost:8080/",
          "height": 35
        },
        "id": "atK7RMBorh80",
        "outputId": "0f337997-f2a0-4bf9-efb8-e357a56ced7c"
      },
      "outputs": [
        {
          "data": {
            "application/vnd.google.colaboratory.intrinsic+json": {
              "type": "string"
            },
            "text/plain": [
              "' I  Stay in hubli'"
            ]
          },
          "execution_count": 18,
          "metadata": {},
          "output_type": "execute_result"
        }
      ],
      "source": [
        "city(\"hubli\")"
      ]
    },
    {
      "cell_type": "code",
      "execution_count": null,
      "metadata": {
        "colab": {
          "base_uri": "https://localhost:8080/"
        },
        "id": "2fc1FO6XuHAz",
        "outputId": "dfe671a9-1b4b-4c93-b899-e1875fba8a03"
      },
      "outputs": [
        {
          "name": "stdout",
          "output_type": "stream",
          "text": [
            " I  Stay in Dharwad\n",
            " I  Stay in Dharwad\n",
            " I  Stay in Dharwad\n",
            " I  Stay in Dharwad\n",
            " I  Stay in Dharwad\n",
            "\n"
          ]
        }
      ],
      "source": [
        "def spreadLove(to : str, n : int)-> str:\n",
        "  \"\"\"Generates a string that repeats a loving message n times\"\"\"\n",
        "  note : str =\"\"\n",
        "  countstring :int = 0\n",
        "  while countstring< n:\n",
        "    note+=city(to) +\"\\n\"\n",
        "    countstring += 1\n",
        "  return note\n",
        "\n",
        "print(spreadLove(\"Dharwad\",5))\n"
      ]
    },
    {
      "cell_type": "code",
      "execution_count": null,
      "metadata": {
        "colab": {
          "base_uri": "https://localhost:8080/",
          "height": 35
        },
        "id": "VhCq-Xtp-8As",
        "outputId": "41904e15-5aa5-49a9-ce65-e7bbb5dd2569"
      },
      "outputs": [
        {
          "data": {
            "application/vnd.google.colaboratory.intrinsic+json": {
              "type": "string"
            },
            "text/plain": [
              "' I  Stay in hubli'"
            ]
          },
          "execution_count": 28,
          "metadata": {},
          "output_type": "execute_result"
        }
      ],
      "source": [
        "city(\"hubli\")"
      ]
    },
    {
      "cell_type": "code",
      "execution_count": null,
      "metadata": {
        "colab": {
          "base_uri": "https://localhost:8080/"
        },
        "id": "Nd3x-K_X__Xf",
        "outputId": "f3c9c68f-4deb-4f10-d317-029322053990"
      },
      "outputs": [
        {
          "name": "stdout",
          "output_type": "stream",
          "text": [
            "hello\n"
          ]
        }
      ],
      "source": [
        "def helloHi(a: int, b: int)->int:\n",
        " print(\"hello\")\n",
        "\n",
        "helloHi(2,3)"
      ]
    },
    {
      "cell_type": "code",
      "execution_count": null,
      "metadata": {
        "colab": {
          "base_uri": "https://localhost:8080/"
        },
        "id": "3vveJQvlKKir",
        "outputId": "f0760c3b-8cca-4204-d605-48843ea91655"
      },
      "outputs": [
        {
          "name": "stdout",
          "output_type": "stream",
          "text": [
            "Hello\n",
            "Welcome\n",
            "to\n",
            "GeeksforGeeks\n"
          ]
        }
      ],
      "source": [
        "def myFun(*argv):\n",
        "    for arg in argv:\n",
        "        print(arg)\n",
        "\n",
        "\n",
        "myFun('Hello', 'Welcome', 'to', 'GeeksforGeeks')"
      ]
    },
    {
      "cell_type": "code",
      "execution_count": null,
      "metadata": {
        "colab": {
          "base_uri": "https://localhost:8080/"
        },
        "id": "mP6EX6m6W3at",
        "outputId": "fd67e699-d591-4f1a-8ea7-c669ad5380d3"
      },
      "outputs": [
        {
          "name": "stdout",
          "output_type": "stream",
          "text": [
            "Me too.\n",
            "I love Geeksforgeeks\n"
          ]
        }
      ],
      "source": [
        "def f():\n",
        "    s = \"Me too.\"\n",
        "    print(s)\n",
        "\n",
        "# Global scope\n",
        "s = \"I love Geeksforgeeks\"\n",
        "f()\n",
        "print(s)"
      ]
    },
    {
      "cell_type": "code",
      "execution_count": null,
      "metadata": {
        "colab": {
          "base_uri": "https://localhost:8080/"
        },
        "id": "4qgNBKstexuY",
        "outputId": "bb8c9143-3371-4a86-e040-b9cebc9be237"
      },
      "outputs": [
        {
          "name": "stdout",
          "output_type": "stream",
          "text": [
            "its confusing GFG\n",
            "Look for Geeksforgeeks Python Section\n",
            "Look for Geeksforgeeks Python Section\n",
            "its confusing\n"
          ]
        }
      ],
      "source": [
        "# This function modifies the global variable 's'\n",
        "def f():\n",
        "    global s\n",
        "    s += ' GFG'\n",
        "    print(s)\n",
        "    s = \"Look for Geeksforgeeks Python Section\"\n",
        "    print(s)\n",
        "\n",
        "# Global Scope\n",
        "#s = \"Python is great!\"\n",
        "f()\n",
        "print(s)\n",
        "s=\"its confusing\"\n",
        "print(s)"
      ]
    },
    {
      "cell_type": "code",
      "execution_count": null,
      "metadata": {
        "colab": {
          "base_uri": "https://localhost:8080/"
        },
        "id": "pD1Pxf1kldjQ",
        "outputId": "c81ce059-0438-449e-c8c4-efd272d071ff"
      },
      "outputs": [
        {
          "name": "stdout",
          "output_type": "stream",
          "text": [
            "global :  1\n",
            "Inside f() :  1\n",
            "global :  1\n",
            "Inside g() :  2\n",
            "global :  1\n",
            "Inside h() :  3\n",
            "global :  3\n",
            "now a =  3\n"
          ]
        }
      ],
      "source": [
        "a = 1\n",
        "\n",
        "# Uses global because there is no local 'a'\n",
        "def f():\n",
        "    print('Inside f() : ', a)\n",
        "\n",
        "# Variable 'a' is redefined as a local\n",
        "def g():\n",
        "    a = 2\n",
        "    print('Inside g() : ', a)\n",
        "\n",
        "# Uses global keyword to modify global 'a'\n",
        "def h():\n",
        "    global a\n",
        "    a = 3\n",
        "    print('Inside h() : ', a)\n",
        "\n",
        "\n",
        "# Global scope\n",
        "print('global : ', a)\n",
        "f()\n",
        "print('global : ', a)\n",
        "g()\n",
        "print('global : ', a)\n",
        "h()\n",
        "print('global : ', a)\n",
        "print( \"now a = \", a)"
      ]
    },
    {
      "cell_type": "code",
      "execution_count": null,
      "metadata": {
        "colab": {
          "base_uri": "https://localhost:8080/"
        },
        "id": "C71rXd4omnkB",
        "outputId": "373e8b10-626d-4765-a138-11bcff7c44a8"
      },
      "outputs": [
        {
          "name": "stdout",
          "output_type": "stream",
          "text": [
            "[2, 3, 4, 5]\n"
          ]
        }
      ],
      "source": [
        "from random import randint\n",
        "rolls: list[int]=list()\n",
        "rolls.append(2)\n",
        "rolls.append(3)\n",
        "rolls.append(4)\n",
        "rolls.append(5)\n",
        "print(rolls)"
      ]
    },
    {
      "cell_type": "code",
      "execution_count": null,
      "metadata": {
        "id": "2tV8ac6kqbkh"
      },
      "outputs": [],
      "source": []
    },
    {
      "cell_type": "markdown",
      "metadata": {
        "id": "Y2XdSiyYU7cj"
      },
      "source": [
        "# Functions"
      ]
    },
    {
      "cell_type": "code",
      "execution_count": null,
      "metadata": {
        "colab": {
          "base_uri": "https://localhost:8080/",
          "height": 35
        },
        "id": "TLxkkJKFVFVd",
        "outputId": "ee58048d-f178-4b05-d840-ea0c694d9f83"
      },
      "outputs": [
        {
          "data": {
            "application/vnd.google.colaboratory.intrinsic+json": {
              "type": "string"
            },
            "text/plain": [
              "'heello'"
            ]
          },
          "execution_count": 15,
          "metadata": {},
          "output_type": "execute_result"
        }
      ],
      "source": [
        "def f(name:str)->str:\n",
        "  return \"heello\"\n",
        "\n",
        "#print(\"funtion styarts\")\n",
        "f(\"w\")\n",
        "#print(\"funtion ends\")\n"
      ]
    },
    {
      "cell_type": "code",
      "execution_count": null,
      "metadata": {
        "colab": {
          "base_uri": "https://localhost:8080/"
        },
        "id": "SxRBS7WVeW3H",
        "outputId": "bb76b8f2-74bf-4628-a831-38b0a8a2618e"
      },
      "outputs": [
        {
          "name": "stdout",
          "output_type": "stream",
          "text": [
            " I  Stay in banglore\n"
          ]
        }
      ],
      "source": [
        "result : str=city(\"banglore\")\n",
        "print (result)"
      ]
    },
    {
      "cell_type": "code",
      "execution_count": null,
      "metadata": {
        "colab": {
          "base_uri": "https://localhost:8080/"
        },
        "id": "rXopIO6ttDBS",
        "outputId": "194b5a45-ce15-44e8-c05a-489d70b3bdbc"
      },
      "outputs": [
        {
          "name": "stdout",
          "output_type": "stream",
          "text": [
            " I  Stay in Dharwad\n",
            " I  Stay in Dharwad\n",
            " I  Stay in Dharwad\n",
            " I  Stay in Dharwad\n",
            " I  Stay in Dharwad\n",
            "\n"
          ]
        }
      ],
      "source": [
        "def message(to : str, n : int)-> str:\n",
        "  \"\"\"Generates a string that repeats a loving message n times\"\"\"\n",
        "  note : str =\"\"\n",
        "  i :int = 0\n",
        "  while i< n:\n",
        "    note+=city(to) +\"\\n\"\n",
        "    i += 1\n",
        "  return note\n",
        "\n",
        "print(message(\"Dharwad\",5))"
      ]
    },
    {
      "cell_type": "code",
      "execution_count": null,
      "metadata": {
        "id": "9Ko5Q41sM9KW"
      },
      "outputs": [],
      "source": [
        "def mystery(n : int)-> str:\n",
        "  \"\"\"A Useless function\"\"\"\n",
        "  i : int = 0\n",
        "  while i<n:\n",
        "    if i % 2 ==1:\n",
        "      return \"ooh\"\n",
        "    i +=1\n",
        "  return \"ahh\""
      ]
    },
    {
      "cell_type": "code",
      "execution_count": null,
      "metadata": {
        "colab": {
          "base_uri": "https://localhost:8080/",
          "height": 35
        },
        "id": "wYOIn_7Va8MY",
        "outputId": "5b25b52c-a70c-4502-c448-4935e7d2abcc"
      },
      "outputs": [
        {
          "data": {
            "application/vnd.google.colaboratory.intrinsic+json": {
              "type": "string"
            },
            "text/plain": [
              "'ooh'"
            ]
          },
          "execution_count": 16,
          "metadata": {},
          "output_type": "execute_result"
        }
      ],
      "source": [
        "mystery(4)"
      ]
    },
    {
      "cell_type": "code",
      "execution_count": null,
      "metadata": {
        "colab": {
          "base_uri": "https://localhost:8080/"
        },
        "id": "--HwtPz5bEmD",
        "outputId": "049c289e-719c-4d7a-927f-218c168cd7cd"
      },
      "outputs": [
        {
          "name": "stdout",
          "output_type": "stream",
          "text": [
            "The filtered letters are:\n",
            "e\n",
            "e\n"
          ]
        }
      ],
      "source": [
        "# function that filters vowels\n",
        "def fun(variable):\n",
        "    letters = ['a', 'e', 'i', 'o', 'u']\n",
        "    if (variable in letters):\n",
        "        return True\n",
        "    else:\n",
        "        return False\n",
        "\n",
        "\n",
        "# sequence\n",
        "sequence = ['g', 'e', 'e', 'j', 'k', 's', 'p', 'r']\n",
        "\n",
        "# using filter function\n",
        "filtered = filter(fun, sequence)\n",
        "\n",
        "print('The filtered letters are:')\n",
        "for s in filtered:\n",
        "    print(s)"
      ]
    },
    {
      "cell_type": "code",
      "execution_count": null,
      "metadata": {
        "colab": {
          "base_uri": "https://localhost:8080/"
        },
        "id": "y5W6WK2esybn",
        "outputId": "940488e7-7a08-4014-98d3-ddb72330630c"
      },
      "outputs": [
        {
          "name": "stdout",
          "output_type": "stream",
          "text": [
            "[552, 642, 892, 122, 454, 224, 234, 344, 562116, 554, 112, 680, 516]\n"
          ]
        }
      ],
      "source": [
        "def makeEven(num):\n",
        "  if num % 2 ==1:\n",
        "    return num+1\n",
        "  else:\n",
        "    return num\n",
        "\n",
        "x=[551,641,891,122,453,223,234,343,562,115,554,111,679,516]\n",
        "y=[]\n",
        "for num in x:\n",
        "  y.append(makeEven(num))\n",
        "\n",
        "print(y)"
      ]
    },
    {
      "cell_type": "code",
      "execution_count": null,
      "metadata": {
        "colab": {
          "base_uri": "https://localhost:8080/"
        },
        "id": "wbIl_n8Hvw3q",
        "outputId": "92a47caa-755f-47ea-9ef6-90ce7ea950c1"
      },
      "outputs": [
        {
          "name": "stdout",
          "output_type": "stream",
          "text": [
            "[552, 642, 892, 122, 454, 224, 234, 344, 562, 116, 554, 112, 680, 516]\n"
          ]
        }
      ],
      "source": [
        "def makeEven(num):\n",
        "  if num % 2 ==1:\n",
        "    return num+1\n",
        "  else:\n",
        "    return num\n",
        "\n",
        "x=[551,641,891,122,453,223,234,343,562,115,554,111,679,516]\n",
        "#using map method\n",
        "y=list(map(makeEven,x))\n",
        "\n",
        "print(y)"
      ]
    },
    {
      "cell_type": "code",
      "execution_count": null,
      "metadata": {
        "colab": {
          "base_uri": "https://localhost:8080/"
        },
        "id": "3JLZz_uh0hEG",
        "outputId": "5a61678d-771a-40fe-b034-8153bfeb0a1e"
      },
      "outputs": [
        {
          "name": "stdout",
          "output_type": "stream",
          "text": [
            "[552, 642, 892, 122, 454, 224, 234, 344, 562, 116, 554, 112, 680, 516]\n"
          ]
        }
      ],
      "source": [
        "def makeEven(num):\n",
        "  if num % 2 ==1:\n",
        "    return num+1\n",
        "  else:\n",
        "    return num\n",
        "\n",
        "x=[551,641,891,122,453,223,234,343,562,115,554,111,679,516]\n",
        "#list comp ethod\n",
        "y=[makeEven(num) for num in x]\n",
        "\n",
        "print(y)"
      ]
    },
    {
      "cell_type": "code",
      "execution_count": null,
      "metadata": {
        "colab": {
          "base_uri": "https://localhost:8080/"
        },
        "id": "s9I1qr9P084B",
        "outputId": "2dec4828-be0c-406e-a5c1-69f4e00cb0db"
      },
      "outputs": [
        {
          "name": "stdout",
          "output_type": "stream",
          "text": [
            "['101', '104']\n"
          ]
        }
      ],
      "source": [
        "from traitlets.config.application import T\n",
        "avail_units= {\n",
        "    '101' : {\n",
        "        'bedrooms' : 3,'bathroom': 2,'price':1550\n",
        "    },\n",
        "    '102' : {\n",
        "        'bedrooms' : 2,'bathroom': 1,'price':1625\n",
        "    },\n",
        "    '103' : {\n",
        "        'bedrooms' : 1,'bathroom': 1,'price':1400\n",
        "    },\n",
        "    '104' : {\n",
        "        'bedrooms' : 2,'bathroom': 1,'price':1500\n",
        "    },\n",
        "    '105' : {\n",
        "        'bedrooms' : 3,'bathroom': 2,'price':1700\n",
        "    },\n",
        "    '106' : {\n",
        "        'bedrooms' : 1,'bathroom': 1,'price':1550\n",
        "    }\n",
        "}\n",
        "\n",
        "def myFilter(unit_num):\n",
        "  if avail_units[unit_num]['price'] < 1600 and avail_units[unit_num]['bedrooms']>=2:\n",
        "    return True\n",
        "  else:\n",
        "    return False\n",
        "x=list(filter(myFilter,avail_units))\n",
        "print (x)\n",
        "\n",
        "\n"
      ]
    },
    {
      "cell_type": "code",
      "execution_count": null,
      "metadata": {
        "id": "8O0ubi7S5pQH"
      },
      "outputs": [],
      "source": [
        "def is_even(n):\n",
        "  return n%\n",
        "\n",
        "nums=[3,2,6,8,4,6,2,9]\n",
        "evens=list(filter(is_even,num))"
      ]
    },
    {
      "cell_type": "code",
      "execution_count": null,
      "metadata": {
        "colab": {
          "base_uri": "https://localhost:8080/"
        },
        "id": "wye3IUMeifQg",
        "outputId": "dffef4ad-01fb-4648-81fd-87cd981cff9c"
      },
      "outputs": [
        {
          "name": "stdout",
          "output_type": "stream",
          "text": [
            "[4, 9, 25, 36, 5776, 9, 16, 16, 4]\n"
          ]
        }
      ],
      "source": [
        "def sq(a):\n",
        "  return a *a\n",
        "\n",
        "\n",
        "num = [2,3,5,6,76,3,4,4,2]\n",
        "square = list(map(sq,num))\n",
        "print(square)"
      ]
    },
    {
      "cell_type": "code",
      "execution_count": null,
      "metadata": {
        "colab": {
          "base_uri": "https://localhost:8080/"
        },
        "id": "DFAQqWPEi1Qq",
        "outputId": "8bc7f324-632c-45de-824e-034c57f3e313"
      },
      "outputs": [
        {
          "data": {
            "text/plain": [
              "32768"
            ]
          },
          "execution_count": 3,
          "metadata": {},
          "output_type": "execute_result"
        }
      ],
      "source": [
        "a=8\n",
        "a**5"
      ]
    },
    {
      "cell_type": "code",
      "execution_count": null,
      "metadata": {
        "colab": {
          "base_uri": "https://localhost:8080/"
        },
        "id": "yfTB3WA0jt8i",
        "outputId": "179797ff-d0da-422e-9de0-a456a091fdd1"
      },
      "outputs": [
        {
          "name": "stdout",
          "output_type": "stream",
          "text": [
            "21\n"
          ]
        }
      ],
      "source": [
        "from functools import reduce\n",
        "list1=[2,3,4,5,7]\n",
        "num = reduce(lambda x,y : x+y,list1) #lambda function is used for convinence\n",
        "print(num)"
      ]
    },
    {
      "cell_type": "code",
      "execution_count": null,
      "metadata": {
        "colab": {
          "base_uri": "https://localhost:8080/"
        },
        "id": "AYD75zGOmJE_",
        "outputId": "d7142b1b-af05-4b40-fabc-b941f1081292"
      },
      "outputs": [
        {
          "name": "stdout",
          "output_type": "stream",
          "text": [
            "7\n"
          ]
        }
      ],
      "source": [
        "minus = lambda x,y: x-y\n",
        "print(minus(15,8))"
      ]
    },
    {
      "cell_type": "code",
      "execution_count": null,
      "metadata": {
        "colab": {
          "base_uri": "https://localhost:8080/"
        },
        "id": "jjadw68SokXm",
        "outputId": "a14c89e6-e7d7-4527-ee97-851709b13a1d"
      },
      "outputs": [
        {
          "name": "stdout",
          "output_type": "stream",
          "text": [
            "* \n",
            "* * \n",
            "* * * \n",
            "* * * * \n"
          ]
        }
      ],
      "source": [
        "for i in range(1,5):\n",
        "  print(\"* \" * i)"
      ]
    },
    {
      "cell_type": "code",
      "execution_count": null,
      "metadata": {
        "colab": {
          "base_uri": "https://localhost:8080/"
        },
        "id": "IbxZjXWJ2v6A",
        "outputId": "cc174872-4c7a-465e-d9ca-819095182020"
      },
      "outputs": [
        {
          "name": "stdout",
          "output_type": "stream",
          "text": [
            "0.0,32.0\n"
          ]
        }
      ],
      "source": [
        "def f(x:float)->float:\n",
        "  x +=1.0\n",
        "  y : float = x + 2.0\n",
        "  return x+y\n",
        "\n",
        "def g()->None:\n",
        "  global y\n",
        "  x : float= f(3.0)\n",
        "  y =f(x + 4.0)\n",
        "\n",
        "x: float = 0.0\n",
        "y: float = 0.0\n",
        "g()\n",
        "print(f\"{x},{y}\")"
      ]
    },
    {
      "cell_type": "code",
      "execution_count": null,
      "metadata": {
        "colab": {
          "base_uri": "https://localhost:8080/"
        },
        "id": "JRONoLlUCCk_",
        "outputId": "61ab5c13-6600-443f-cc4e-5e946c60ae2f"
      },
      "outputs": [
        {
          "name": "stdout",
          "output_type": "stream",
          "text": [
            "[1, 3]\n"
          ]
        }
      ],
      "source": [
        "\"\"\"Examples of using list in a simple game\"\"\"\n",
        "from random import randint\n",
        "rolls : list[int] = list()    # square bracket says that the list is of int type\n",
        "rolls.append(1)\n",
        "rolls.append(3)\n",
        "print(rolls)"
      ]
    },
    {
      "cell_type": "code",
      "execution_count": null,
      "metadata": {
        "id": "oY15TgBzwGbc"
      },
      "outputs": [],
      "source": [
        "from random import randint\n",
        "rolls : list[int] = list()\n",
        "#rolls.append(randint(1,6))\n",
        "#rolls.append(randint(1,6))\n",
        "#print(rolls)"
      ]
    },
    {
      "cell_type": "code",
      "execution_count": null,
      "metadata": {
        "colab": {
          "base_uri": "https://localhost:8080/"
        },
        "id": "WHEB-aPpxq6p",
        "outputId": "221bd4a3-03cf-4250-c124-cad6c51f3f2a"
      },
      "outputs": [
        {
          "name": "stdout",
          "output_type": "stream",
          "text": [
            "4\n",
            "1\n"
          ]
        }
      ],
      "source": [
        "\"\"\"Acess an individual\"\"\"\n",
        "print(rolls[0])\n",
        "#Access the length of a list(number of items)\n",
        "print(len(rolls) - 1)"
      ]
    },
    {
      "cell_type": "code",
      "execution_count": null,
      "metadata": {
        "colab": {
          "base_uri": "https://localhost:8080/"
        },
        "id": "_6cSZ1Vax7hk",
        "outputId": "29787ef2-0094-4fb6-90ec-3b5e84b194a9"
      },
      "outputs": [
        {
          "name": "stdout",
          "output_type": "stream",
          "text": [
            "[3, 6, 1]\n",
            "[3, 6]\n"
          ]
        }
      ],
      "source": [
        "while len(rolls)== 0 or rolls[len(rolls)-1]!=1:\n",
        "  rolls.append(randint(1,6))\n",
        "print(rolls)\n",
        "rolls.pop(len(rolls)-1)\n",
        "print(rolls)\n"
      ]
    },
    {
      "cell_type": "code",
      "execution_count": null,
      "metadata": {
        "colab": {
          "base_uri": "https://localhost:8080/"
        },
        "id": "OB25ZD9a07Fq",
        "outputId": "91c007ac-22df-41c1-d320-6ae305f0c25a"
      },
      "outputs": [
        {
          "name": "stdout",
          "output_type": "stream",
          "text": [
            "Total score : 9\n"
          ]
        }
      ],
      "source": [
        "i: int = 0\n",
        "sum : int =0\n",
        "while i<len(rolls):\n",
        "  sum = sum +rolls[i]\n",
        "  i=i+1\n",
        "print(f\"Total score : {sum}\")"
      ]
    },
    {
      "cell_type": "code",
      "execution_count": null,
      "metadata": {
        "colab": {
          "base_uri": "https://localhost:8080/"
        },
        "id": "AtOSaNMK3xZn",
        "outputId": "7ed07203-5c51-4b8b-f7f6-e4b7325bd5d8"
      },
      "outputs": [
        {
          "name": "stdout",
          "output_type": "stream",
          "text": [
            "3\n"
          ]
        }
      ],
      "source": [
        "def sum_add(a,b)->int:\n",
        "  return a+b\n",
        "\n",
        "x = sum_add(1,2)\n",
        "y = print(sum_add(1,2))"
      ]
    },
    {
      "cell_type": "code",
      "execution_count": null,
      "metadata": {
        "colab": {
          "base_uri": "https://localhost:8080/"
        },
        "id": "rAMCa5E02YNL",
        "outputId": "2bea56e5-2fee-4c38-aac5-b232ede71b8b"
      },
      "outputs": [
        {
          "name": "stdout",
          "output_type": "stream",
          "text": [
            "3\n"
          ]
        }
      ],
      "source": [
        "print(x)"
      ]
    },
    {
      "cell_type": "code",
      "execution_count": null,
      "metadata": {
        "colab": {
          "base_uri": "https://localhost:8080/"
        },
        "id": "5HSFkIyQ2hb4",
        "outputId": "4b56fe09-ed3a-4883-bfec-a9fc9024f85d"
      },
      "outputs": [
        {
          "data": {
            "text/plain": [
              "NoneType"
            ]
          },
          "execution_count": 3,
          "metadata": {},
          "output_type": "execute_result"
        }
      ],
      "source": [
        "type(y)"
      ]
    },
    {
      "cell_type": "code",
      "execution_count": null,
      "metadata": {
        "colab": {
          "base_uri": "https://localhost:8080/"
        },
        "id": "9Zmj-LaB2jum",
        "outputId": "7cc27709-9221-4e48-cb54-b6dbf55aac56"
      },
      "outputs": [
        {
          "name": "stdout",
          "output_type": "stream",
          "text": [
            "[0, 1, 0, 1]\n"
          ]
        }
      ],
      "source": [
        "in_list=[2,3,4,5]\n",
        "\n",
        "def zeroOneReturn(in_list:list)->int:\n",
        "  if in_list%2==1:\n",
        "    return 1\n",
        "  else :\n",
        "    return 0\n",
        "\n",
        "#y=list(map(zeroOneReturn,in_list))\n",
        "print(y)"
      ]
    },
    {
      "cell_type": "code",
      "execution_count": null,
      "metadata": {
        "colab": {
          "base_uri": "https://localhost:8080/"
        },
        "id": "5aGPYC5E56y6",
        "outputId": "3e59b609-f8e5-42e5-8630-3aeeee09678c"
      },
      "outputs": [
        {
          "data": {
            "text/plain": [
              "[1, 0, 1, 0, 1, 0]"
            ]
          },
          "execution_count": 6,
          "metadata": {},
          "output_type": "execute_result"
        }
      ],
      "source": [
        "num_list = [2,3,8,9,10,11]\n",
        "def zeroOneReturn(a:list) -> list:\n",
        "   return [1 if i%2 == 0 else 0 for i in a]\n",
        "zeroOneReturn(num_list)"
      ]
    },
    {
      "cell_type": "code",
      "execution_count": null,
      "metadata": {
        "colab": {
          "base_uri": "https://localhost:8080/"
        },
        "id": "RnVI-giCI9Dz",
        "outputId": "4161bb7d-ec46-45be-9c99-4953dae98ac0"
      },
      "outputs": [
        {
          "data": {
            "text/plain": [
              "<function __main__.myfunc.<locals>.<lambda>(a)>"
            ]
          },
          "execution_count": 1,
          "metadata": {},
          "output_type": "execute_result"
        }
      ],
      "source": [
        "def myfunc(n):\n",
        "  return lambda a : a * n\n",
        "myfunc(6)"
      ]
    },
    {
      "cell_type": "code",
      "execution_count": null,
      "metadata": {
        "colab": {
          "base_uri": "https://localhost:8080/"
        },
        "id": "dPmQegX_D6un",
        "outputId": "5855cd24-639a-4d93-e281-410c78a8d1ef"
      },
      "outputs": [
        {
          "name": "stdout",
          "output_type": "stream",
          "text": [
            "Exit\n"
          ]
        }
      ],
      "source": [
        "import sys\n",
        "\n",
        "for line in sys.stdin:\n",
        "    if 'q' == line.rstrip():\n",
        "        break\n",
        "    print(f'Input : {line}')\n",
        "\n",
        "print(\"Exit\")"
      ]
    },
    {
      "cell_type": "code",
      "execution_count": null,
      "metadata": {
        "colab": {
          "base_uri": "https://localhost:8080/"
        },
        "id": "XS4PlPPJWaIS",
        "outputId": "7d676cdb-cd6e-4b78-ddb5-ee0b2b5ddc65"
      },
      "outputs": [
        {
          "name": "stdout",
          "output_type": "stream",
          "text": [
            "['one', 'two']\n"
          ]
        }
      ],
      "source": [
        "a:list[str]=[\"one\"]\n",
        "b:list[str]=a\n",
        "a.append(\"two\")\n",
        "print(b)"
      ]
    },
    {
      "cell_type": "code",
      "execution_count": null,
      "metadata": {
        "colab": {
          "base_uri": "https://localhost:8080/"
        },
        "id": "pmomgUACq7MP",
        "outputId": "f3c0bd06-13b0-4cef-8262-06523c2930c9"
      },
      "outputs": [
        {
          "name": "stdout",
          "output_type": "stream",
          "text": [
            "[10, 20, 10, 20]\n"
          ]
        }
      ],
      "source": [
        "def dup(xs: list[int])->None:\n",
        "  start_len : int = len(xs)\n",
        "  i : int = 0\n",
        "  while i < start_len:\n",
        "    xs.append(xs[i])\n",
        "    i+=1\n",
        "\n",
        "nums:list[int]=[10,20]\n",
        "dup(nums)\n",
        "print(nums)"
      ]
    },
    {
      "cell_type": "code",
      "execution_count": null,
      "metadata": {
        "colab": {
          "base_uri": "https://localhost:8080/"
        },
        "id": "hDJXv_ka3dkz",
        "outputId": "6ec481fa-6798-461c-f0ab-9d5276712fa2"
      },
      "outputs": [
        {
          "name": "stdout",
          "output_type": "stream",
          "text": [
            "[3, 5]\n"
          ]
        }
      ],
      "source": [
        "def odds(min : int ,max : int )->list[int]:\n",
        "  xs : list[int] = list()\n",
        "  i : int =(min//2)*2+1\n",
        "  while i<=max:\n",
        "    xs.append(i)\n",
        "    i+=2\n",
        "  return xs\n",
        "\n",
        "ys : list[int] = odds(3,6)\n",
        "print(ys)"
      ]
    },
    {
      "cell_type": "code",
      "execution_count": null,
      "metadata": {
        "colab": {
          "base_uri": "https://localhost:8080/"
        },
        "id": "fnRBeGbR8qfW",
        "outputId": "0274b8a9-2193-4919-b03d-ed62b12aaf10"
      },
      "outputs": [
        {
          "name": "stdout",
          "output_type": "stream",
          "text": [
            "1\n"
          ]
        }
      ],
      "source": [
        "a=3//2\n",
        "print(a)"
      ]
    },
    {
      "cell_type": "code",
      "execution_count": null,
      "metadata": {
        "colab": {
          "base_uri": "https://localhost:8080/"
        },
        "id": "qmzJjmsY8yb9",
        "outputId": "0a856734-f259-4884-a43c-cbcc0af7b0a5"
      },
      "outputs": [
        {
          "name": "stdout",
          "output_type": "stream",
          "text": [
            "my name is Tim Tester ,I am 20 years old\n",
            "my skills are\n",
            "- hellopythonhello (hellobeginnerhello)\n",
            "-  java  ( veteran )\n",
            "-  programming  ( semiprofessional  )\n",
            "I am looking for a job with a salary of 2000 - 3000 euros per month\n"
          ]
        }
      ],
      "source": [
        "name = \"Tim Tester\"\n",
        "age = 20\n",
        "skill1 = \"python\"\n",
        "level1 = \"beginner\"\n",
        "skill2 = \"java\"\n",
        "level2 = \"veteran\"\n",
        "skill3 = \"programming\"\n",
        "level3 = \"semiprofessional\"\n",
        "lower = 2000\n",
        "upper = 3000\n",
        "\n",
        "print(\"my name is\",name,\",I am\",age,\"years old\")\n",
        "print(\"my skills are\")\n",
        "print(\"- \",skill1, \" (\",level1, \")\",sep = 'hello')\n",
        "print(\"- \",skill2, \" (\",level2, \")\")\n",
        "print(\"- \",skill3, \" (\",level3, \" )\")\n",
        "print(\"I am looking for a job with a salary of\",lower, \"-\", upper, \"euros per month\")"
      ]
    },
    {
      "cell_type": "markdown",
      "metadata": {
        "id": "EHGSAh-6A0Dg"
      },
      "source": [
        "https://stackoverflow.com/questions/47686690/why-is-there-an-extra-space-in-between-a-variable-and-punctuation-in-a-string-p\n",
        "\n",
        "why there is a space after comma (check the above link)"
      ]
    },
    {
      "cell_type": "code",
      "execution_count": null,
      "metadata": {
        "colab": {
          "base_uri": "https://localhost:8080/"
        },
        "id": "AdqRb1hh5PmA",
        "outputId": "4afac120-6d32-4e45-ec39-1c5450be2494"
      },
      "outputs": [
        {
          "name": "stdout",
          "output_type": "stream",
          "text": [
            "my name is Tim Tester , Iam 20 years old \n",
            " My skills are \n",
            " -python \n",
            " -java \n",
            " -programming\n"
          ]
        }
      ],
      "source": [
        "print(f\"my name is {name} , Iam {age} years old \\n My skills are \\n -{skill1} \\n -{skill2} \\n -{skill3}\")"
      ]
    },
    {
      "cell_type": "code",
      "execution_count": null,
      "metadata": {
        "colab": {
          "base_uri": "https://localhost:8080/"
        },
        "id": "VuohuFxZ8M0C",
        "outputId": "d4aac919-3d6b-40e2-9b9c-57305ab27b3b"
      },
      "outputs": [
        {
          "name": "stdout",
          "output_type": "stream",
          "text": [
            "my name is Tim Tester\n",
            "Iam 20 years old\n"
          ]
        }
      ],
      "source": [
        "print(f\"my name is {name}\")\n",
        "print(f\"Iam {age} years old\")"
      ]
    },
    {
      "cell_type": "code",
      "execution_count": null,
      "metadata": {
        "colab": {
          "base_uri": "https://localhost:8080/"
        },
        "id": "b-FdX29J8h8s",
        "outputId": "c3d3bab5-0103-4bef-f27a-64706ff7a7df"
      },
      "outputs": [
        {
          "name": "stdout",
          "output_type": "stream",
          "text": [
            "enter your namewajida\n",
            "wajida\n",
            "None\n"
          ]
        }
      ],
      "source": [
        "c=input(\"enter your name\")\n",
        "d=print(c)\n",
        "print(d)"
      ]
    },
    {
      "cell_type": "code",
      "execution_count": null,
      "metadata": {
        "colab": {
          "base_uri": "https://localhost:8080/"
        },
        "id": "kG81PIBrsjR6",
        "outputId": "edb68ce5-618d-44ca-b021-b1533ea8ec6b"
      },
      "outputs": [
        {
          "name": "stdout",
          "output_type": "stream",
          "text": [
            "[1, 2, 3, 4, [3, 4, 5, 6, 7], 3, 4, 5, 6, 7]\n"
          ]
        }
      ],
      "source": [
        "l1=[1,2,3,4]\n",
        "l2=[3,4,5,6,7]\n",
        "l1.append(l2)\n",
        "l1.extend(l2)\n",
        "print(l1)"
      ]
    },
    {
      "cell_type": "code",
      "execution_count": null,
      "metadata": {
        "colab": {
          "base_uri": "https://localhost:8080/"
        },
        "id": "BjBklld4m5_Y",
        "outputId": "a1534266-9842-4ac6-afd8-e6bc841311a2"
      },
      "outputs": [
        {
          "name": "stdout",
          "output_type": "stream",
          "text": [
            "[1, 2, 3, 4, 11, 10, 9, 7, 100, 100, [3, 4, 5, 6, 7], 3, 4, 5, 6, 7]\n"
          ]
        }
      ],
      "source": [
        "l1.insert(4,11)\n",
        "print(l1)"
      ]
    },
    {
      "cell_type": "code",
      "execution_count": null,
      "metadata": {
        "id": "GnO8_rRPnqUx"
      },
      "outputs": [],
      "source": [
        "l1.reverse()"
      ]
    },
    {
      "cell_type": "code",
      "execution_count": null,
      "metadata": {
        "colab": {
          "base_uri": "https://localhost:8080/"
        },
        "id": "zMTYbVyMozkr",
        "outputId": "03d20caf-b58d-40bf-f954-77d49af9c010"
      },
      "outputs": [
        {
          "name": "stdout",
          "output_type": "stream",
          "text": [
            "[7, 6, 5, 4, 3, [3, 4, 5, 6, 7], 100, 100, 7, 9, 10, 11, 4, 3, 2, 1]\n"
          ]
        }
      ],
      "source": [
        "print(l1)"
      ]
    },
    {
      "cell_type": "code",
      "execution_count": null,
      "metadata": {
        "colab": {
          "base_uri": "https://localhost:8080/"
        },
        "id": "8_JMsam7pr9z",
        "outputId": "a3d2ad53-857e-4f77-c4a9-49273b1a0df0"
      },
      "outputs": [
        {
          "name": "stdout",
          "output_type": "stream",
          "text": [
            "[1, 2, 3, 4, 11, 10, 9, 7, 100, 100, [3, 4, 5, 6, 7], 3, 4, 5, 6, 7]\n"
          ]
        }
      ],
      "source": [
        "print(list(reversed(l1)))"
      ]
    },
    {
      "cell_type": "code",
      "execution_count": null,
      "metadata": {
        "colab": {
          "base_uri": "https://localhost:8080/"
        },
        "id": "UxcyS84Hp-cb",
        "outputId": "a23575c1-73ce-44d0-8f89-1e3314ae4849"
      },
      "outputs": [
        {
          "name": "stdout",
          "output_type": "stream",
          "text": [
            "banana\n"
          ]
        }
      ],
      "source": [
        "thislist : list[int] = [\"apple\", \"banana\", \"cherry\"]\n",
        "print(thislist[1])"
      ]
    },
    {
      "cell_type": "code",
      "execution_count": null,
      "metadata": {
        "colab": {
          "base_uri": "https://localhost:8080/"
        },
        "id": "6ucsAKZ0woKl",
        "outputId": "512387df-ccb6-4785-fc1e-db9a064d2c81"
      },
      "outputs": [
        {
          "name": "stdout",
          "output_type": "stream",
          "text": [
            "[7, 6, 5, 3, [3, 4, 5, 6, 7], 100, 7, 9, 10, 11, 3, 2, 1]\n"
          ]
        }
      ],
      "source": [
        "l1.remove(4)\n",
        "print(l1)"
      ]
    },
    {
      "cell_type": "code",
      "execution_count": null,
      "metadata": {
        "colab": {
          "base_uri": "https://localhost:8080/"
        },
        "id": "zYMo2dWpyjIv",
        "outputId": "fe22d9a2-c110-4498-96ef-48308594c7aa"
      },
      "outputs": [
        {
          "name": "stdout",
          "output_type": "stream",
          "text": [
            "Original List is : ['Iris', 'Orchids', 'Rose', 'Lavender', 'Lily', 'Carnations']\n",
            "After deleting the item : ['Iris', 'Lavender', 'Lily', 'Carnations']\n"
          ]
        }
      ],
      "source": [
        "lst = ['Iris', 'Orchids', 'Rose', 'Lavender',\n",
        "    'Lily', 'Carnations']\n",
        "print(\"Original List is :\", lst)\n",
        "\n",
        "# using pop() to delete item\n",
        "# ('Orchids' at index 1) from the list\n",
        "lst.pop(1)\n",
        "lst.remove(\"Rose\")\n",
        "print(\"After deleting the item :\", lst)"
      ]
    },
    {
      "cell_type": "code",
      "execution_count": null,
      "metadata": {
        "colab": {
          "base_uri": "https://localhost:8080/"
        },
        "id": "33AgZmpE0UZQ",
        "outputId": "a61295c8-e221-4f54-f213-608db348a428"
      },
      "outputs": [
        {
          "name": "stdout",
          "output_type": "stream",
          "text": [
            "['apple', 'orange', 'banana', 'cherry']\n"
          ]
        }
      ],
      "source": [
        "fruits = ['apple', 'banana', 'cherry']\n",
        "fruits.insert(1, \"orange\")\n",
        "print(fruits)"
      ]
    },
    {
      "cell_type": "code",
      "execution_count": null,
      "metadata": {
        "colab": {
          "base_uri": "https://localhost:8080/"
        },
        "id": "WEojygfb4gFw",
        "outputId": "897bf37f-1208-474a-de9a-32a2b69b9c73"
      },
      "outputs": [
        {
          "output_type": "stream",
          "name": "stdout",
          "text": [
            "The original string is : The city streets buzzed with life, as people hurried on their way to work, clutching coffee cups and briefcases. Neon signs flickered, casting an otherworldly glow on the rainy pavement. A street musician strummed a melancholic tune, drawing a small crowd of onlookers. Amid the chaos, there was a sense of unity in the shared experience of urban existence, where every passerby was a character in a story, each with their own narrative.\n",
            "The number of words in string are : ['The', 'city', 'streets', 'buzzed', 'with', 'life,', 'as', 'people', 'hurried', 'on', 'their', 'way', 'to', 'work,', 'clutching', 'coffee', 'cups', 'and', 'briefcases.', 'Neon', 'signs', 'flickered,', 'casting', 'an', 'otherworldly', 'glow', 'on', 'the', 'rainy', 'pavement.', 'A', 'street', 'musician', 'strummed', 'a', 'melancholic', 'tune,', 'drawing', 'a', 'small', 'crowd', 'of', 'onlookers.', 'Amid', 'the', 'chaos,', 'there', 'was', 'a', 'sense', 'of', 'unity', 'in', 'the', 'shared', 'experience', 'of', 'urban', 'existence,', 'where', 'every', 'passerby', 'was', 'a', 'character', 'in', 'a', 'story,', 'each', 'with', 'their', 'own', 'narrative.']\n",
            "73\n"
          ]
        }
      ],
      "source": [
        "test_string : str = \"The city streets buzzed with life, as people hurried on their way to work, clutching coffee cups and briefcases. Neon signs flickered, casting an otherworldly glow on the rainy pavement. A street musician strummed a melancholic tune, drawing a small crowd of onlookers. Amid the chaos, there was a sense of unity in the shared experience of urban existence, where every passerby was a character in a story, each with their own narrative.\"\n",
        "\n",
        "# printing original string\n",
        "print (\"The original string is : \" + test_string)\n",
        "\n",
        "# to count words in string\n",
        "#res = test_string.count(\" \") + 1\n",
        "res = test_string.split()\n",
        "# printing result\n",
        "print (\"The number of words in string are : \" + str(res))\n",
        "print(len(res))"
      ]
    },
    {
      "cell_type": "code",
      "execution_count": null,
      "metadata": {
        "colab": {
          "base_uri": "https://localhost:8080/"
        },
        "id": "gmsQKWK1MFIu",
        "outputId": "e21e745b-f404-435a-a243-30b22bc12ba2"
      },
      "outputs": [
        {
          "name": "stdout",
          "output_type": "stream",
          "text": [
            "{'pavan school': 19400, 'KLS school': 1940, 'JSS school': 1400, 'KE Boards school': 9400}\n"
          ]
        }
      ],
      "source": [
        "schools : dict[str,int]\n",
        "#Initialize to an empty dictionary\n",
        "schools = dict()\n",
        "\n",
        "#Set a key value in a dictionary\n",
        "schools[\"pavan school\"]=19400\n",
        "schools[\"KLS school\"]=1940\n",
        "schools[\"JSS school\"]=1400\n",
        "schools[\"KE Boards school\"]=9400\n",
        "print(schools)"
      ]
    },
    {
      "cell_type": "code",
      "execution_count": null,
      "metadata": {
        "colab": {
          "base_uri": "https://localhost:8080/"
        },
        "id": "bTDAVbHY1e7d",
        "outputId": "a4b66d93-5b4a-465c-b682-f773ec570dc9"
      },
      "outputs": [
        {
          "name": "stdout",
          "output_type": "stream",
          "text": [
            "Enter your name:\n",
            "abcd\n",
            "Enter your sub1 score:\n",
            "34\n",
            "Enter your sub2 score:\n",
            "67\n",
            "Enter your sub3 score:\n",
            "45\n",
            "Enter your name:\n",
            "efgh\n",
            "Enter your sub1 score:\n",
            "87\n",
            "Enter your sub2 score:\n",
            "67\n",
            "Enter your sub3 score:\n",
            "54\n",
            "Enter your name:\n",
            "xyz\n",
            "Enter your sub1 score:\n",
            "34\n",
            "Enter your sub2 score:\n",
            "67\n",
            "Enter your sub3 score:\n",
            "32\n",
            "Enter your name:\n",
            "pqrs\n",
            "Enter your sub1 score:\n",
            "34\n",
            "Enter your sub2 score:\n",
            "23\n",
            "Enter your sub3 score:\n",
            "12\n",
            "Enter your name:\n",
            "hi\n",
            "Enter your sub1 score:\n",
            "87\n",
            "Enter your sub2 score:\n",
            "45\n",
            "Enter your sub3 score:\n",
            "34\n"
          ]
        },
        {
          "data": {
            "text/plain": [
              "[{'Name': 'abcd',\n",
              "  'score1': 34,\n",
              "  'score2': 67,\n",
              "  'score3': 45,\n",
              "  'average score': 48.666666666666664,\n",
              "  'grade': 'Grade D'},\n",
              " {'Name': 'efgh',\n",
              "  'score1': 87,\n",
              "  'score2': 67,\n",
              "  'score3': 54,\n",
              "  'average score': 69.33333333333333,\n",
              "  'grade': 'Grade C'},\n",
              " {'Name': 'xyz',\n",
              "  'score1': 34,\n",
              "  'score2': 67,\n",
              "  'score3': 32,\n",
              "  'average score': 44.333333333333336,\n",
              "  'grade': 'Grade D'},\n",
              " {'Name': 'pqrs',\n",
              "  'score1': 34,\n",
              "  'score2': 23,\n",
              "  'score3': 12,\n",
              "  'average score': 23.0,\n",
              "  'grade': 'Grade F'},\n",
              " {'Name': 'hi',\n",
              "  'score1': 87,\n",
              "  'score2': 45,\n",
              "  'score3': 34,\n",
              "  'average score': 55.333333333333336,\n",
              "  'grade': 'Grade C'}]"
            ]
          },
          "execution_count": 11,
          "metadata": {},
          "output_type": "execute_result"
        }
      ],
      "source": [
        "students_grade_card : list = []\n",
        "for i in range(5):\n",
        "  print(\"Enter your name:\")\n",
        "  name : str = input()\n",
        "  print(\"Enter your sub1 score:\")\n",
        "  score1 : int = int(input())\n",
        "  print(\"Enter your sub2 score:\")\n",
        "  score2 : int = int(input())\n",
        "  print(\"Enter your sub3 score:\")\n",
        "  score3 : int = int(input())\n",
        "  #average_score : float = (score1+score2+score3)/3\n",
        "  def avgFunc(a:int,b:int,c:int)->int:\n",
        "    equation=(a+b+c)/3\n",
        "    return equation\n",
        "\n",
        "  grade_outcome : dict = {\n",
        "      (90<=avgFunc()<100) : \"Grade A\", (75<=average_score<90) : \"Grade B\",\n",
        "      (55<=average_score<75) : \"Grade C\" , (35<=average_score<55) : \"Grade D\" ,\n",
        "      (0<=average_score<35) : \"Grade F\"\n",
        "      }\n",
        "  grade : str = grade_outcome[True]\n",
        "  students_grade_card.append({\"Name\" : name,\n",
        "      \"score1\": score1, \"score2\":score2 , \"score3\":score3,\n",
        "      \"average score\" : average_score, \"grade\" : grade\n",
        "      })\n",
        "students_grade_card"
      ]
    },
    {
      "cell_type": "code",
      "execution_count": null,
      "metadata": {
        "colab": {
          "background_save": true
        },
        "id": "0wQeg1vN2_8F"
      },
      "outputs": [],
      "source": [
        "def avgFunc(a:int,b:int,c:int)->int:\n",
        "  equation=(a+b+c)/3\n",
        "  return equation\n",
        "\n",
        "\n"
      ]
    },
    {
      "cell_type": "code",
      "execution_count": null,
      "metadata": {
        "id": "MYGfY5vB45qo",
        "colab": {
          "base_uri": "https://localhost:8080/"
        },
        "outputId": "b834c2a2-5c09-4da9-cf4c-3acfbe28eb2e"
      },
      "outputs": [
        {
          "output_type": "stream",
          "name": "stdout",
          "text": [
            "{'the': 4, 'city': 1, 'streets': 1, 'buzzed': 1, 'with': 2, 'life,': 1, 'as': 1, 'people': 1, 'hurried': 1, 'on': 2, 'their': 2, 'way': 1, 'to': 1, 'work,': 1, 'clutching': 1, 'coffee': 1, 'cups': 1, 'and': 1, 'briefcases.': 1, 'neon': 1, 'signs': 1, 'flickered,': 1, 'casting': 1, 'an': 1, 'otherworldly': 1, 'glow': 1, 'rainy': 1, 'pavement.': 1, 'a': 6, 'street': 1, 'musician': 1, 'strummed': 1, 'melancholic': 1, 'tune,': 1, 'drawing': 1, 'small': 1, 'crowd': 1, 'of': 3, 'onlookers.': 1, 'amid': 1, 'chaos,': 1, 'there': 1, 'was': 2, 'sense': 1, 'unity': 1, 'in': 2, 'shared': 1, 'experience': 1, 'urban': 1, 'existence,': 1, 'where': 1, 'every': 1, 'passerby': 1, 'character': 1, 'story,': 1, 'each': 1, 'own': 1, 'narrative.': 1}\n",
            "\n",
            "\n",
            "\n"
          ]
        },
        {
          "output_type": "execute_result",
          "data": {
            "text/plain": [
              "{'a': 6, 'the': 4, 'of': 3, 'with': 2, 'on': 2}"
            ]
          },
          "metadata": {},
          "execution_count": 12
        }
      ],
      "source": [
        "story_vocab : list[str] = test_string.lower().split()\n",
        "story_dict : dict = {}\n",
        "\n",
        "def topFive(story_vocab):\n",
        "  Top_5 : dict = dict(sorted(story_dict.items(),key= lambda x: x[1], reverse = True)[:5])\n",
        "  return dict(Top_5)\n",
        "\n",
        "\n",
        "for word in story_vocab:\n",
        "  if word in story_dict:\n",
        "    story_dict[word] +=1\n",
        "  else:\n",
        "    story_dict[word] = 1\n",
        "print(story_dict)\n",
        "print(\"\\n\\n\")\n",
        "\n",
        "topFive(story_vocab)\n"
      ]
    },
    {
      "cell_type": "markdown",
      "source": [
        "sort with second index of tuple\n"
      ],
      "metadata": {
        "id": "SlCzEIjShc17"
      }
    },
    {
      "cell_type": "code",
      "source": [
        "x=story_dict.values()\n",
        "type(x)"
      ],
      "metadata": {
        "colab": {
          "base_uri": "https://localhost:8080/"
        },
        "id": "R9q42cXXLZta",
        "outputId": "d97147ed-fd22-44bc-e761-301297a077d5"
      },
      "execution_count": null,
      "outputs": [
        {
          "output_type": "execute_result",
          "data": {
            "text/plain": [
              "dict_values"
            ]
          },
          "metadata": {},
          "execution_count": 17
        }
      ]
    },
    {
      "cell_type": "code",
      "source": [
        "for i in story_dict.items():\n",
        "  print(i)\n",
        "  print(i[1])"
      ],
      "metadata": {
        "colab": {
          "base_uri": "https://localhost:8080/"
        },
        "id": "058gddsuZ9W7",
        "outputId": "0a323fd2-16c8-4846-ac19-77d5d8604586"
      },
      "execution_count": null,
      "outputs": [
        {
          "output_type": "stream",
          "name": "stdout",
          "text": [
            "('the', 4)\n",
            "4\n",
            "('city', 1)\n",
            "1\n",
            "('streets', 1)\n",
            "1\n",
            "('buzzed', 1)\n",
            "1\n",
            "('with', 2)\n",
            "2\n",
            "('life,', 1)\n",
            "1\n",
            "('as', 1)\n",
            "1\n",
            "('people', 1)\n",
            "1\n",
            "('hurried', 1)\n",
            "1\n",
            "('on', 2)\n",
            "2\n",
            "('their', 2)\n",
            "2\n",
            "('way', 1)\n",
            "1\n",
            "('to', 1)\n",
            "1\n",
            "('work,', 1)\n",
            "1\n",
            "('clutching', 1)\n",
            "1\n",
            "('coffee', 1)\n",
            "1\n",
            "('cups', 1)\n",
            "1\n",
            "('and', 1)\n",
            "1\n",
            "('briefcases.', 1)\n",
            "1\n",
            "('neon', 1)\n",
            "1\n",
            "('signs', 1)\n",
            "1\n",
            "('flickered,', 1)\n",
            "1\n",
            "('casting', 1)\n",
            "1\n",
            "('an', 1)\n",
            "1\n",
            "('otherworldly', 1)\n",
            "1\n",
            "('glow', 1)\n",
            "1\n",
            "('rainy', 1)\n",
            "1\n",
            "('pavement.', 1)\n",
            "1\n",
            "('a', 6)\n",
            "6\n",
            "('street', 1)\n",
            "1\n",
            "('musician', 1)\n",
            "1\n",
            "('strummed', 1)\n",
            "1\n",
            "('melancholic', 1)\n",
            "1\n",
            "('tune,', 1)\n",
            "1\n",
            "('drawing', 1)\n",
            "1\n",
            "('small', 1)\n",
            "1\n",
            "('crowd', 1)\n",
            "1\n",
            "('of', 3)\n",
            "3\n",
            "('onlookers.', 1)\n",
            "1\n",
            "('amid', 1)\n",
            "1\n",
            "('chaos,', 1)\n",
            "1\n",
            "('there', 1)\n",
            "1\n",
            "('was', 2)\n",
            "2\n",
            "('sense', 1)\n",
            "1\n",
            "('unity', 1)\n",
            "1\n",
            "('in', 2)\n",
            "2\n",
            "('shared', 1)\n",
            "1\n",
            "('experience', 1)\n",
            "1\n",
            "('urban', 1)\n",
            "1\n",
            "('existence,', 1)\n",
            "1\n",
            "('where', 1)\n",
            "1\n",
            "('every', 1)\n",
            "1\n",
            "('passerby', 1)\n",
            "1\n",
            "('character', 1)\n",
            "1\n",
            "('story,', 1)\n",
            "1\n",
            "('each', 1)\n",
            "1\n",
            "('own', 1)\n",
            "1\n",
            "('narrative.', 1)\n",
            "1\n"
          ]
        }
      ]
    },
    {
      "cell_type": "code",
      "source": [
        "def avgFunc(a:int,b:int,c:int)->float:\n",
        "  equation=(a+b+c)/3\n",
        "  return equation\n",
        "\n",
        "def calculateGrade(num : float) -> str:\n",
        "  outcome = {(90<=num<=100):\"Grade A\", (75<=num<=90): \"Grade B\", (55<=num<=75):\"Grade C\", (35<=num<=55):\"Grade D\",(0<=num<=35):\"Grade F\"}\n",
        "  return outcome[True]\n",
        "\n",
        "def gradeCard(name :str, score1:int, score2:int ,score3:int )->dict:\n",
        "  #score1=int(input())\n",
        "  #score2=int(input())\n",
        "  #score3=int(input())\n",
        "  avg_score : float = avgFunc(score1,score2,score3)\n",
        "  grade : str = calculateGrade(avg_score)\n",
        "  grade_card:dict ={ \"score1\": score1, \"score2\":score2 ,  \"score3\":score3, \"average score\" : avg_score,  \"grade\" : grade }\n",
        "  return grade_card\n",
        "\n",
        "\n",
        "\n",
        "\n",
        "\n",
        "#calculateGrade(avgFunc(10,20,30))\n"
      ],
      "metadata": {
        "id": "qylzvg7TaNeO"
      },
      "execution_count": 34,
      "outputs": []
    },
    {
      "cell_type": "code",
      "source": [
        "Student1=input(\"enter your name\")\n",
        "score1=int(input())\n",
        "score2=int(input())\n",
        "score3=int(input())\n",
        "gradeCard(Student1,score1,score2,score3)"
      ],
      "metadata": {
        "colab": {
          "base_uri": "https://localhost:8080/"
        },
        "id": "VfW2GnoVhkrW",
        "outputId": "0d392bef-b41d-4110-aeae-3308d72d6f33"
      },
      "execution_count": 35,
      "outputs": [
        {
          "name": "stdout",
          "output_type": "stream",
          "text": [
            "enter your namewajida\n",
            "12\n",
            "45\n",
            "56\n"
          ]
        },
        {
          "output_type": "execute_result",
          "data": {
            "text/plain": [
              "{'score1': 12,\n",
              " 'score2': 45,\n",
              " 'score3': 56,\n",
              " 'average score': 37.666666666666664,\n",
              " 'grade': 'Grade D'}"
            ]
          },
          "metadata": {},
          "execution_count": 35
        }
      ]
    },
    {
      "cell_type": "code",
      "source": [
        "import random\n",
        "\n",
        "# using random.sample()\n",
        "# to generate random number list\n",
        "random.seed(2)\n",
        "res = random.sample(range(1, 60), 50)\n",
        "\n",
        "# printing result\n",
        "print (res)"
      ],
      "metadata": {
        "id": "2YD5oX5prTvC",
        "colab": {
          "base_uri": "https://localhost:8080/"
        },
        "outputId": "093fbb10-baa5-443c-e948-c95773786357"
      },
      "execution_count": null,
      "outputs": [
        {
          "output_type": "stream",
          "name": "stdout",
          "text": [
            "[56, 55, 4, 6, 59, 24, 11, 48, 43, 20, 17, 39, 14, 52, 3, 38, 53, 28, 41, 26, 33, 54, 35, 29, 46, 18, 45, 2, 12, 15, 51, 13, 47, 49, 58, 34, 25, 8, 22, 1, 23, 36, 19, 5, 9, 30, 40, 27, 44, 31]\n"
          ]
        }
      ]
    },
    {
      "cell_type": "code",
      "source": [
        "def calMean(cal_list)->float:\n",
        "  mean_result=sum(cal_list)/len(cal_list)\n",
        "  return mean_result\n",
        "\n",
        "def calRange(max_value,min_value)->int:\n",
        "  range_result = max_value-min_value\n",
        "  return range_result\n",
        "\n",
        "\n",
        "def calStdDev(cal_list:list[int], mean : float) ->float:\n",
        "  squared_mean_dist = [(x-mean)**2 for x in cal_list]\n",
        "  variance = sum(squared_mean_dist)/len(cal_list)\n",
        "  standard_deviation = (variance) ** 0.5\n",
        "  return standard_deviation\n",
        "\n",
        "\n",
        "def calMedian(cal_list)->float:\n",
        "    sorted_list = sorted(cal_list)\n",
        "    list_length = len(sorted_list)\n",
        "    median_index = list_length // 2\n",
        "\n",
        "    if list_length % 2 != 0:\n",
        "\n",
        "        median = sorted_list[median_index]\n",
        "    else:\n",
        "        lower_middle_index = median_index - 1\n",
        "        median = (sorted_list[lower_middle_index] + sorted_list[median_index]) / 2\n",
        "\n",
        "    return median\n",
        "\n",
        "\n",
        "\n",
        "def discriptiveStatistics(cal_list : list[int])->dict[str, float]:\n",
        "  mean : float        = calMean(res)\n",
        "  median : float      = calMedian(res)\n",
        "  std_div : float     = calStdDev(res,mean)\n",
        "  max_value : int     = max(res)\n",
        "  min_value : int     = min(res)\n",
        "  range : int         = calRange(max_value,min_value)\n",
        "  discriptive_dict : dict ={\"Mean\": mean, \"Max Value\": max_value, \"Min Value\" : min_value ,\"Range\": range , \"Median\": median ,\"Std dev\":std_div }\n",
        "  return discriptive_dict\n",
        "\n",
        "\n",
        "\n",
        "discriptiveStatistics(res)"
      ],
      "metadata": {
        "colab": {
          "base_uri": "https://localhost:8080/"
        },
        "id": "IjzaqQ24cdgk",
        "outputId": "7077b351-3852-4937-efc1-f475b9724ca7"
      },
      "execution_count": null,
      "outputs": [
        {
          "output_type": "execute_result",
          "data": {
            "text/plain": [
              "{'Mean': 29.96,\n",
              " 'Max Value': 59,\n",
              " 'Min Value': 1,\n",
              " 'Range': 58,\n",
              " 'Median': 29.5,\n",
              " 'Std dev': 17.07508125895745}"
            ]
          },
          "metadata": {},
          "execution_count": 7
        }
      ]
    },
    {
      "cell_type": "code",
      "source": [
        "def recursive_fibonacci(n):\n",
        "  if n <= 1:\n",
        "      return n\n",
        "\n",
        "  return(recursive_fibonacci(n-1) + recursive_fibonacci(n-2))\n",
        "\n",
        "n_terms = -10\n",
        "\n",
        "# check if the number of terms is valid\n",
        "if n_terms <= 0:\n",
        "  print(\"Invalid input ! Please input a positive value\")\n",
        "else:\n",
        "  print(\"Fibonacci series:\")\n",
        "for i in range(n_terms): #range(0, 10)\n",
        "    print(recursive_fibonacci(i))"
      ],
      "metadata": {
        "id": "OuZvNc-Hlr1_",
        "colab": {
          "base_uri": "https://localhost:8080/"
        },
        "outputId": "412355a5-3890-4357-8ad6-a8c23051f6ab"
      },
      "execution_count": null,
      "outputs": [
        {
          "output_type": "stream",
          "name": "stdout",
          "text": [
            "Invalid input ! Please input a positive value\n"
          ]
        }
      ]
    },
    {
      "cell_type": "code",
      "source": [
        "range(n_terms)"
      ],
      "metadata": {
        "colab": {
          "base_uri": "https://localhost:8080/"
        },
        "id": "U0qvV9eHvls0",
        "outputId": "5610dbc6-8330-4bcb-b2be-1aa5b1b8d1f9"
      },
      "execution_count": null,
      "outputs": [
        {
          "output_type": "execute_result",
          "data": {
            "text/plain": [
              "range(0, 10)"
            ]
          },
          "metadata": {},
          "execution_count": 6
        }
      ]
    },
    {
      "cell_type": "code",
      "source": [
        "name = \"Alice\"\n",
        "age = 30\n",
        "print(\"Name:\", name, \"Age:\", age)"
      ],
      "metadata": {
        "colab": {
          "base_uri": "https://localhost:8080/"
        },
        "id": "9hpSuddu1A6H",
        "outputId": "d094d61c-e4b7-4e00-d268-56d8eec0c6f3"
      },
      "execution_count": null,
      "outputs": [
        {
          "output_type": "stream",
          "name": "stdout",
          "text": [
            "Name: Alice Age: 30\n"
          ]
        }
      ]
    },
    {
      "cell_type": "code",
      "source": [
        "x = 'looked'\n",
        "\n",
        "print(\"Misha %s and %s around\"%('walked',x))"
      ],
      "metadata": {
        "id": "zN2CRzBNRFaK",
        "colab": {
          "base_uri": "https://localhost:8080/"
        },
        "outputId": "ba6f0b34-4845-4db8-a1f6-4e48e2d4a67f"
      },
      "execution_count": null,
      "outputs": [
        {
          "output_type": "stream",
          "name": "stdout",
          "text": [
            "Misha walked and looked around\n"
          ]
        }
      ]
    },
    {
      "cell_type": "code",
      "source": [
        "n = 10\n",
        "num1 = 0\n",
        "num2 = 1\n",
        "next_number = num2\n",
        "count = 1\n",
        "\n",
        "while count <= n:\n",
        "    print(next_number, end=\" \")\n",
        "    count += 1\n",
        "    num1, num2 = num2, next_number\n",
        "    next_number = num1 + num2\n",
        "print()"
      ],
      "metadata": {
        "colab": {
          "base_uri": "https://localhost:8080/"
        },
        "id": "4fapF4gwJcGM",
        "outputId": "0cfaed7e-6118-41b3-dacc-0774027e80c0"
      },
      "execution_count": null,
      "outputs": [
        {
          "output_type": "stream",
          "name": "stdout",
          "text": [
            "1 2 3 5 8 13 21 34 55 89 \n"
          ]
        }
      ]
    },
    {
      "cell_type": "code",
      "source": [
        "# Nested list\n",
        "List1 : int =[1,2,3,4,5]\n",
        "\n",
        "List2 : str = [\"hello\",\"hi\"]\n",
        "List3 = [List1,List2]\n",
        "print(List3)"
      ],
      "metadata": {
        "id": "_n2pAYoxguf3",
        "colab": {
          "base_uri": "https://localhost:8080/"
        },
        "outputId": "1d273323-8f30-41fe-82d2-37221c8ccd40"
      },
      "execution_count": null,
      "outputs": [
        {
          "output_type": "stream",
          "name": "stdout",
          "text": [
            "[[1, 2, 3, 4, 5], ['hello', 'hi']]\n"
          ]
        }
      ]
    },
    {
      "cell_type": "code",
      "source": [
        "#Repition of list this is same in tuple\n",
        "List4 = [List1]*3\n",
        "print(List4)"
      ],
      "metadata": {
        "colab": {
          "base_uri": "https://localhost:8080/"
        },
        "id": "rI8X6tP0WX9X",
        "outputId": "3a90e554-94bf-4c39-c5a1-f69bd9bd90d3"
      },
      "execution_count": null,
      "outputs": [
        {
          "output_type": "stream",
          "name": "stdout",
          "text": [
            "[[1, 2, 3, 4, 5], [1, 2, 3, 4, 5], [1, 2, 3, 4, 5]]\n"
          ]
        }
      ]
    },
    {
      "cell_type": "code",
      "source": [
        "def exampleFunction(**kwargs):\n",
        "    for key, value in kwargs.items():\n",
        "        print(f\"{key}: {value}\")\n",
        "\n",
        "exampleFunction(name=\"Alice\", age=30, city=\"New York\")"
      ],
      "metadata": {
        "colab": {
          "base_uri": "https://localhost:8080/"
        },
        "id": "YNznvplLXPmw",
        "outputId": "f796e240-2920-4f6c-f64c-0910f6d76de2"
      },
      "execution_count": null,
      "outputs": [
        {
          "output_type": "stream",
          "name": "stdout",
          "text": [
            "name: Alice\n",
            "age: 30\n",
            "city: New York\n"
          ]
        }
      ]
    },
    {
      "cell_type": "code",
      "source": [
        "# random sales dictionary\n",
        "sales = { 'apple': 2, 'orange': 3, 'grapes': 4 }\n",
        "\n",
        "print(sales.items())"
      ],
      "metadata": {
        "colab": {
          "base_uri": "https://localhost:8080/"
        },
        "id": "0dnLsF1Xhixu",
        "outputId": "46c410e4-05a5-427c-8f7c-18b1a7ac3a90"
      },
      "execution_count": null,
      "outputs": [
        {
          "output_type": "stream",
          "name": "stdout",
          "text": [
            "dict_items([('apple', 2), ('orange', 3), ('grapes', 4)])\n"
          ]
        }
      ]
    },
    {
      "cell_type": "code",
      "source": [
        "def funcArgs(normal,*arg1,**kwargs):\n",
        "  print(normal)\n",
        "  for items in arg1:\n",
        "    print (items)\n",
        "\n",
        "\n",
        "har={\"Harry\",\"Rohan\",\"Rahul\",\"Hameed\"}\n",
        "normal = \"The keywords are as follows : \"\n",
        "kw = {\"Rohan\":\"Monitor\",\"Harry\":\"Fitness\",\"Hameed\":\"Cook\"}\n",
        "\n",
        "funcArgs(normal,*har,**kw)"
      ],
      "metadata": {
        "colab": {
          "base_uri": "https://localhost:8080/"
        },
        "id": "3VGJwREDj476",
        "outputId": "9546ba45-dad0-4327-da4a-d22f4d7db9f1"
      },
      "execution_count": 17,
      "outputs": [
        {
          "output_type": "stream",
          "name": "stdout",
          "text": [
            "The keywords are as follows : \n",
            "Harry\n",
            "Hameed\n",
            "Rahul\n",
            "Rohan\n"
          ]
        }
      ]
    },
    {
      "cell_type": "code",
      "source": [
        "def calSum(name,*score):\n",
        "  c=0\n",
        "  for i in score:\n",
        "    c+=i\n",
        "    size =  len(score)\n",
        "    avg = c/size\n",
        "  return f\"{name} your average is {avg}\"\n",
        "\n",
        "\n",
        "student_name=input(\"Enter students name :  \")\n",
        "score1 = int(input(\"Enter the Score1 : \"))\n",
        "score2 = int(input(\"Enter the Score2 : \"))\n",
        "score3 = int(input(\"Enter the Score3 : \"))\n",
        "\n",
        "calSum(student_name,*(score1,score2,score3))"
      ],
      "metadata": {
        "id": "M0UeSPj5nfLN",
        "colab": {
          "base_uri": "https://localhost:8080/",
          "height": 110
        },
        "outputId": "18acf983-af30-4e03-e042-833ee6725b7f"
      },
      "execution_count": 30,
      "outputs": [
        {
          "name": "stdout",
          "output_type": "stream",
          "text": [
            "Enter students name :  wajida\n",
            "Enter the Score1 : 12\n",
            "Enter the Score2 : 13\n",
            "Enter the Score3 : 14\n"
          ]
        },
        {
          "output_type": "execute_result",
          "data": {
            "text/plain": [
              "'wajida your average is 13.0'"
            ],
            "application/vnd.google.colaboratory.intrinsic+json": {
              "type": "string"
            }
          },
          "metadata": {},
          "execution_count": 30
        }
      ]
    },
    {
      "cell_type": "code",
      "source": [
        "def myFun(*args, **kwargs):\n",
        "    print(\"args: \", args)\n",
        "    print(\"kwargs: \", kwargs)\n",
        "\n",
        "\n",
        "# Now we can use both *args ,**kwargs\n",
        "# to pass arguments to this function :\n",
        "myFun('geeks', 'for', 'geeks', first=\"Geeks\", mid=\"for\", last=\"Geeks\")"
      ],
      "metadata": {
        "colab": {
          "base_uri": "https://localhost:8080/"
        },
        "id": "xKvJlHcRML2R",
        "outputId": "4115336e-e1ee-4866-dc4e-596d5e9f2093"
      },
      "execution_count": 31,
      "outputs": [
        {
          "output_type": "stream",
          "name": "stdout",
          "text": [
            "args:  ('geeks', 'for', 'geeks')\n",
            "kwargs:  {'first': 'Geeks', 'mid': 'for', 'last': 'Geeks'}\n"
          ]
        }
      ]
    }
  ],
  "metadata": {
    "colab": {
      "provenance": [],
      "authorship_tag": "ABX9TyOCrATC3IdydNQMP6bvavvH",
      "include_colab_link": true
    },
    "kernelspec": {
      "display_name": "Python 3",
      "name": "python3"
    },
    "language_info": {
      "name": "python"
    }
  },
  "nbformat": 4,
  "nbformat_minor": 0
}